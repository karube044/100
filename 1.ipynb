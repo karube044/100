{
 "cells": [
  {
   "cell_type": "code",
   "execution_count": 84,
   "metadata": {},
   "outputs": [
    {
     "name": "stdout",
     "output_type": "stream",
     "text": [
      "desserts\n"
     ]
    }
   ],
   "source": [
    "str = 'stressed' #文字列を代入\n",
    "print(str[::-1]) #スライスを用いて文字列を逆順で取得(開始と終点の指定はなし)"
   ]
  },
  {
   "cell_type": "code",
   "execution_count": 85,
   "metadata": {},
   "outputs": [
    {
     "name": "stdout",
     "output_type": "stream",
     "text": [
      "パトカー\n"
     ]
    }
   ],
   "source": [
    "str = 'パタトクカシーー'\n",
    "print(str[::2]) #00同様にスライスを用いて文字列を取得（先頭から1つ飛ばしで）"
   ]
  },
  {
   "cell_type": "code",
   "execution_count": 86,
   "metadata": {},
   "outputs": [
    {
     "name": "stdout",
     "output_type": "stream",
     "text": [
      "パタトクカシーー\n"
     ]
    }
   ],
   "source": [
    "str1 = 'パトカー'\n",
    "str2 = 'タクシー'\n",
    "\n",
    "#まずzip()関数を用いてc,dの文字列から1文字ずつ同時に取得し、単純連結する。\n",
    "#その結果を要素としたリストを作るのでリスト内包表記が必要\n",
    "#その結果できた文字列のリストをjoin()メソッドを用いて単純連結(区切りは無し)で求める文字列が得られる。\n",
    "ans = ''.join([a+b for a, b in zip(str1, str2)])\n",
    "\n",
    "print(ans)"
   ]
  },
  {
   "cell_type": "code",
   "execution_count": 87,
   "metadata": {},
   "outputs": [
    {
     "name": "stdout",
     "output_type": "stream",
     "text": [
      "[3, 1, 4, 1, 5, 9, 2, 6, 5, 3, 5, 8, 9, 7, 9]\n"
     ]
    }
   ],
   "source": [
    "str ='Now I need a drink, alcoholic of course, after the heavy lectures involving quantum mechanics.'\n",
    "#まず ','と'.' が不要なのでtranslate()メソッドを用いて削除する\n",
    "#最初に','と'.'を空文字列に変換するという変換テーブルをmaketrans()メソッドを用いて作成\n",
    "table = str.maketrans({',':'' , '.':''})\n",
    "\n",
    "#そのテーブルを用いて文字列fから','と'.'を削除した文字列を取得\n",
    "str1 = str.translate(table)\n",
    "#そしてさらにsplit()メソッドを用いて文字列を分割。分割は単語単位で行うのでデフォルトの空白単位でsplitする。\n",
    "str2 = str1.split()\n",
    "#最後にfor文を用いリスト内のすべての単語の文字数を取得する。その単語の長さの取得にはlen()関数を用いる。\n",
    "print([len(i) for i in str2])"
   ]
  },
  {
   "cell_type": "code",
   "execution_count": 88,
   "metadata": {},
   "outputs": [
    {
     "name": "stdout",
     "output_type": "stream",
     "text": [
      "{'H': 1, 'He': 2, 'Li': 3, 'Be': 4, 'B': 5, 'C': 6, 'N': 7, 'O': 8, 'F': 9, 'Ne': 10, 'Na': 11, 'Mi': 12, 'Al': 13, 'Si': 14, 'P': 15, 'S': 16, 'Cl': 17, 'Ar': 18, 'K': 19, 'Ca': 20}\n"
     ]
    }
   ],
   "source": [
    "str = 'Hi He Lied Because Boron Could Not Oxidize Fluorine. New Nations Might Also Sign Peace Security Clause. Arthur King Can.'\n",
    "\n",
    "#単語ずつに分割する(今回は文字数の取得などないため'.'などを削除する必要はない)\n",
    "str1 = str.split()\n",
    "\n",
    "#1文字目だけを取り出す単語の番号をリストにする(後でif文の分岐で使うため)\n",
    "one = [1, 5, 6, 7, 8, 9, 15, 16, 19]\n",
    "\n",
    "#連想配列（辞書型)のための辞書を作成しておく\n",
    "dic = {}\n",
    "\n",
    "#for分でリストの要素とカウンタを同時に取りたいのでenumerate()関数を用いる\n",
    "for i, word in enumerate(str1):\n",
    "    #1つずれているのでカウンタに1足してその番号がチェックリストの中にあるかどうかをif文で分岐する\n",
    "    if i+1 in one:\n",
    "        #リストの中にあれば、スライスを用いてwordの1文字目のみを取り出してキーとし、その値を(カウンタ+1)とする\n",
    "        dic[word[:1]] = i+1\n",
    "    else:\n",
    "        #無ければ、wordの2文字目までを取り出してキーとし、その値を(カウンタ+1)とする\n",
    "        dic[word[:2]] = i+1\n",
    "\n",
    "print(dic)\n",
    "        "
   ]
  },
  {
   "cell_type": "code",
   "execution_count": 89,
   "metadata": {},
   "outputs": [
    {
     "name": "stdout",
     "output_type": "stream",
     "text": [
      "単語: [['I', 'am'], ['am', 'an'], ['an', 'NLPer']]\n",
      "文字: ['I ', ' a', 'am', 'm ', ' a', 'an', 'n ', ' N', 'NL', 'LP', 'Pe', 'er']\n"
     ]
    }
   ],
   "source": [
    "#n-gramを取得するための関数\n",
    "#引数はn-gramのnと文章のリスト\n",
    "def n_gram(n, str):\n",
    "    #スライスを用いて指定した開始位置から2つめの要素までを取得する\n",
    "    #for分を用いて開始位置をずらす。範囲は0(文のはじめ)からlen(str)-n+1 (文の終わりからn-1個前)まで\n",
    "    ans = [str[i:i+n] for i in range(len(str)-n+1)]\n",
    "    return ans\n",
    "\n",
    "str = 'I am an NLPer'\n",
    "word = n_gram(2, str.split()) #単語のbi-gramを求めるために、単語ごとに分割してから渡す\n",
    "cha = n_gram(2, str)\n",
    "\n",
    "print('単語:', word)\n",
    "print('文字:', cha)"
   ]
  },
  {
   "cell_type": "code",
   "execution_count": 90,
   "metadata": {},
   "outputs": [
    {
     "name": "stdout",
     "output_type": "stream",
     "text": [
      "X: {'ra', 'pa', 'ad', 'di', 'ap', 'is', 'se', 'ar'}\n",
      "Y: {'ra', 'pa', 'ap', 'gr', 'ph', 'ag', 'ar'}\n",
      "和集合: {'ra', 'pa', 'ad', 'di', 'ap', 'is', 'ag', 'gr', 'ph', 'se', 'ar'}\n",
      "積集合: {'ra', 'pa', 'ar', 'ap'}\n",
      "差集合: {'di', 'is', 'ad', 'se'}\n",
      "seがXに含まれるかどうか: True\n",
      "seがXに含まれるかどうか: False\n"
     ]
    }
   ],
   "source": [
    "x = 'paraparaparadise'\n",
    "y = 'paragraph'\n",
    "\n",
    "#x,yのbi-gramには前回のn_gram関数を用いる。\n",
    "#和集合などはset型のunionメソッドを用いて求めるので返り値をset型にする\n",
    "#またset関数はリストなどの重複部分を削除できる\n",
    "X = set(n_gram(2,x))\n",
    "Y = set(n_gram(2,y))\n",
    "\n",
    "print('X:', X)\n",
    "print('Y:', Y)\n",
    "print('和集合:', X|Y)\n",
    "print('積集合:', X&Y)\n",
    "print('差集合:', X-Y)\n",
    "print('seがXに含まれるかどうか:', {'se'} <= X) #'se'(set型に直している)がXの部分集合かどうかを判別している。(返り値はTrueまたはFalse)\n",
    "print('seがXに含まれるかどうか:', {'se'} <= Y) #同上"
   ]
  },
  {
   "cell_type": "code",
   "execution_count": 91,
   "metadata": {},
   "outputs": [
    {
     "name": "stdout",
     "output_type": "stream",
     "text": [
      "12時の気温は22.4\n"
     ]
    }
   ],
   "source": [
    "def template(x,y,z):\n",
    "    #f-stringを用いて文字列中に変数を挿入する\n",
    "    print(f'{x}時の{y}は{z}')\n",
    "\n",
    "x = 12\n",
    "y = '気温'\n",
    "z = 22.4\n",
    "\n",
    "template(x, y, z)"
   ]
  },
  {
   "cell_type": "code",
   "execution_count": 92,
   "metadata": {},
   "outputs": [
    {
     "name": "stdout",
     "output_type": "stream",
     "text": [
      "原文: Eight apes ate 8 apples.\n",
      "暗号化文: Ertsg zkvh zgv 8 zkkovh.\n",
      "復号化文: Eight apes ate 8 apples.\n"
     ]
    }
   ],
   "source": [
    "#暗号化のための関数\n",
    "#英小文字を(219 - 文字コード)の文字に置換した場合、例えばa(文字コード97)はz(文字コード122)になる\n",
    "#つまりアルファベットが13文字目のmと14文字目のnとの間を対称に反転する\n",
    "#そのため復号化には暗号化した文を再びこの暗号化関数に入力するだけでよい\n",
    "\n",
    "def cipher(str):\n",
    "    #文字を文字コードに変換するためにord()関数を用いる\n",
    "    #ord()関数は1文字ずつしか変換できない\n",
    "    #変換後の文字を1文字ずつリストにいれるために先にそのリストを作成する\n",
    "    change = [] \n",
    "    for x in str:\n",
    "        \n",
    "        #文字が小文字かどうかはislower()メソッドで判別する\n",
    "        #islower()メソッドは英小文字の場合Trueを返し、それ以外の文字ではFalseを返す\n",
    "        if x.islower():\n",
    "            \n",
    "            #英小文字の場合まずord()関数で文字コードにし、\n",
    "            #その後(219-文字コード)をchr()関数を用いて再び文字に直す\n",
    "            #そして事前に作成したリストにその文字を追加する\n",
    "            change.append( chr( 219-ord(x) ) )\n",
    "        \n",
    "        #英小文字以外の場合は何もせずリストにその文字を追加する\n",
    "        else:\n",
    "            change.append(x)\n",
    "            \n",
    "    #1文字ずつリストの要素になっているのでjoinで1つの文に直し返り値とする       \n",
    "    return ''.join(change)\n",
    "\n",
    "str = 'Eight apes ate 8 apples.'\n",
    "\n",
    "crypt = cipher(str) #暗号化\n",
    "decrypt = cipher(crypt) #復号化\n",
    "            \n",
    "print('原文:', str)\n",
    "print('暗号化文:', crypt)\n",
    "print('復号化文:', decrypt)"
   ]
  },
  {
   "cell_type": "code",
   "execution_count": 93,
   "metadata": {},
   "outputs": [
    {
     "name": "stdout",
     "output_type": "stream",
     "text": [
      "I cduonl’t belveie that I colud aalutlcy unsatdrned what I was rianedg : the pheoamnenl pewor of the human mind .\n"
     ]
    }
   ],
   "source": [
    "#文字列を並び替えるためにrandomモジュールを使用するため導入\n",
    "import random\n",
    "\n",
    "def shuffle(str):\n",
    "    \n",
    "    #並び替え後の文章を作るためのリストを先に作成\n",
    "    ans = []\n",
    "    \n",
    "    #for文を用いて文章内の単語すべてを入れ替える\n",
    "    for word in str:\n",
    "        \n",
    "        #if文で単語が4文字以下かどうかを判別\n",
    "        if len(word) > 4:\n",
    "            #4より大きい場合は、先頭と末尾以外の文字をrandom.sampleにより並び替える(shuffleは文字列不可)\n",
    "            #単語の先頭と末尾はスライスを用いて取り除き、インデックスと単純連結で一つの単語に直す\n",
    "            #random.sampleはリストで返すので、joinを用いて文字列に直す\n",
    "            word = word[0] + ''.join(random.sample( word[1:-1], len(word[1:-1])) ) + word[-1]\n",
    "            ans.append(word)\n",
    "        else:\n",
    "            ans.append(word)\n",
    "    \n",
    "    #最終的に単語のリストになっているのでjoinを用いて文として直す(単語の間には空白を挿入)\n",
    "    return ' '.join(ans)\n",
    "    \n",
    "    \n",
    "str = 'I couldn’t believe that I could actually understand what I was reading : the phenomenal power of the human mind .'\n",
    "\n",
    "#関数では各単語の文字の順序を入れ替えるため、splitで単語ごとに分割したものを引数として渡す\n",
    "print(shuffle(str.split()))"
   ]
  },
  {
   "cell_type": "code",
   "execution_count": null,
   "metadata": {},
   "outputs": [],
   "source": []
  }
 ],
 "metadata": {
  "kernelspec": {
   "display_name": "Python 3",
   "language": "python",
   "name": "python3"
  },
  "language_info": {
   "codemirror_mode": {
    "name": "ipython",
    "version": 3
   },
   "file_extension": ".py",
   "mimetype": "text/x-python",
   "name": "python",
   "nbconvert_exporter": "python",
   "pygments_lexer": "ipython3",
   "version": "3.8.5"
  }
 },
 "nbformat": 4,
 "nbformat_minor": 4
}
