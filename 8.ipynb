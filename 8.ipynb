{
  "nbformat": 4,
  "nbformat_minor": 0,
  "metadata": {
    "colab": {
      "name": "8.ipynb",
      "provenance": [],
      "collapsed_sections": [],
      "authorship_tag": "ABX9TyPtPPu4NNM8Ks4sgpTYcJkm",
      "include_colab_link": true
    },
    "kernelspec": {
      "name": "python3",
      "display_name": "Python 3"
    },
    "language_info": {
      "name": "python"
    },
    "accelerator": "GPU"
  },
  "cells": [
    {
      "cell_type": "markdown",
      "metadata": {
        "id": "view-in-github",
        "colab_type": "text"
      },
      "source": [
        "<a href=\"https://colab.research.google.com/github/karube044/100/blob/master/8.ipynb\" target=\"_parent\"><img src=\"https://colab.research.google.com/assets/colab-badge.svg\" alt=\"Open In Colab\"/></a>"
      ]
    },
    {
      "cell_type": "code",
      "metadata": {
        "id": "gpg8W5NqpSBP"
      },
      "source": [
        "# 準備\n",
        "# google colaboratoryでGPUを使用するために最初にランタイムのタイプをGPUに変更する\n",
        "# 問50で構築した3つのデータファイルはgoogle colaboratoryにアップロードしておく\n",
        "# それぞれのファイルを読み込んでおく(headerあり)\n",
        "import pandas as pd\n",
        "train = pd.read_csv('train.txt', header=0, sep='\\t')\n",
        "valid = pd.read_csv('valid.txt', header=0, sep='\\t')\n",
        "test = pd.read_csv('test.txt', header=0, sep='\\t')\n",
        "\n",
        "# 問60の単語ベクトルはもう一度ここでダウンロードする\n",
        "FILE_ID = \"0B7XkCwpI5KDYNlNUTTlSS21pQmM\"\n",
        "FILE_NAME = \"GoogleNews-vectors-negative300.bin.gz\"\n",
        "!wget --load-cookies /tmp/cookies.txt \"https://docs.google.com/uc?export=download&confirm=$(wget --quiet --save-cookies /tmp/cookies.txt --keep-session-cookies --no-check-certificate 'https://docs.google.com/uc?export=download&id=$FILE_ID' -O- | sed -rn 's/.*confirm=([0-9A-Za-z_]+).*/\\1\\n/p')&id=$FILE_ID\" -O $FILE_NAME && rm -rf /tmp/cookies.txt\n",
        "# 問60と同じように単語ベクトルを使用できるようにしておく\n",
        "from gensim.models import KeyedVectors\n",
        "model_vec = KeyedVectors.load_word2vec_format('GoogleNews-vectors-negative300.bin.gz', binary=True)"
      ],
      "execution_count": null,
      "outputs": []
    },
    {
      "cell_type": "code",
      "metadata": {
        "id": "JIlIyyOngt7e"
      },
      "source": [
        "# 70. 単語ベクトルの和による特徴量\n",
        "# PyTorchをインポートしておく\n",
        "import torch\n",
        "import string\n",
        "\n",
        "# 特徴量を求めるための関数の作成\n",
        "def feature_avg(text):\n",
        "  # 記事見出し(text)から単語のリストを獲得する\n",
        "\n",
        "  # translateで記号をスペースに置換するようにする(削除では単語が連結される可能性があるため)\n",
        "  table = str.maketrans(string.punctuation, ' '*len(string.punctuation))\n",
        "  text = text.translate(table)\n",
        "\n",
        "  # スペースで分割して単語を獲得する\n",
        "  words = text.split() \n",
        "  # 単語ベクトルからその単語のベクトル表現を獲得(単語ベクトルに存在する単語のみ)\n",
        "  vec = [model_vec[word] for word in words if word in model_vec] \n",
        "  # 一つの記事見出しの特徴量は、そこに含まれる単語ベクトルの平均\n",
        "  # tensor型の配列とする\n",
        "  return torch.tensor(sum(vec) / len(vec)) "
      ],
      "execution_count": 17,
      "outputs": []
    },
    {
      "cell_type": "code",
      "metadata": {
        "colab": {
          "base_uri": "https://localhost:8080/"
        },
        "id": "9OgkH8m7f9RX",
        "outputId": "b9837928-d44e-4df6-dccc-4a79b61b2154"
      },
      "source": [
        "# それぞれのデータの特徴量の行列を作成する(stackでベクトルのバッチを作成する)\n",
        "X_train = torch.stack([feature_avg(text) for text in train['TITLE']])\n",
        "X_valid = torch.stack([feature_avg(text) for text in valid['TITLE']])\n",
        "X_test = torch.stack([feature_avg(text) for text in test['TITLE']])\n",
        "# 確認\n",
        "print(X_train.size())\n",
        "print(X_train)"
      ],
      "execution_count": 18,
      "outputs": [
        {
          "output_type": "stream",
          "text": [
            "torch.Size([10672, 300])\n",
            "tensor([[-0.1400,  0.0522, -0.0721,  ...,  0.0303,  0.0224, -0.0816],\n",
            "        [-0.0785, -0.0280,  0.0040,  ...,  0.1154,  0.0537, -0.0167],\n",
            "        [-0.0552, -0.0524,  0.1040,  ...,  0.0014,  0.1029, -0.0172],\n",
            "        ...,\n",
            "        [ 0.1370,  0.0423,  0.0329,  ...,  0.0284,  0.0161, -0.0109],\n",
            "        [-0.0120,  0.0574,  0.0088,  ...,  0.0693,  0.1407,  0.0544],\n",
            "        [ 0.0375,  0.0493, -0.0067,  ...,  0.0785,  0.0856,  0.0517]])\n"
          ],
          "name": "stdout"
        }
      ]
    },
    {
      "cell_type": "code",
      "metadata": {
        "colab": {
          "base_uri": "https://localhost:8080/"
        },
        "id": "pHJ_oyTEgH6c",
        "outputId": "60bf7288-98cc-4aee-d8c9-222024e72bf3"
      },
      "source": [
        "# 記事のカテゴリ名をラベルに変更するための辞書\n",
        "category_dict = {'b': 0, 't': 1, 'e':2, 'm':3}\n",
        "# map関数を用いて、各記事のカテゴリからラベルのベクトルを作成する\n",
        "Y_train = torch.tensor(list(map(lambda x: category_dict[x], train['CATEGORY'])))\n",
        "Y_valid = torch.tensor(list(map(lambda x: category_dict[x], valid['CATEGORY'])))\n",
        "Y_test = torch.tensor(list(map(lambda x: category_dict[x], test['CATEGORY'])))\n",
        "# 確認\n",
        "print('訓練データラベル')\n",
        "print(Y_train.size())\n",
        "print(Y_train)"
      ],
      "execution_count": 19,
      "outputs": [
        {
          "output_type": "stream",
          "text": [
            "訓練データラベル\n",
            "torch.Size([10672])\n",
            "tensor([0, 0, 2,  ..., 0, 0, 2])\n"
          ],
          "name": "stdout"
        }
      ]
    },
    {
      "cell_type": "code",
      "metadata": {
        "id": "o04OggXlgO5Y"
      },
      "source": [
        "# PyTorchファイルの保存(.pt拡張子)\n",
        "torch.save(X_train, 'X_train.pt')\n",
        "torch.save(X_valid, 'X_valid.pt')\n",
        "torch.save(X_test, 'X_test.pt')\n",
        "torch.save(Y_train, 'Y_train.pt')\n",
        "torch.save(Y_valid, 'Y_valid.pt')\n",
        "torch.save(Y_test, 'Y_test.pt')"
      ],
      "execution_count": 20,
      "outputs": []
    },
    {
      "cell_type": "code",
      "metadata": {
        "id": "q241dXFMe0yC"
      },
      "source": [
        "# 71. 単層ニューラルネットワークによる予測\n",
        "# 一応先ほど作成したファイルから読み込み\n",
        "xtrain = torch.load('X_train.pt')\n",
        "xvalid = torch.load('X_valid.pt')\n",
        "xtest = torch.load('X_test.pt')\n",
        "ytrain = torch.load('Y_train.pt')\n",
        "yvalid = torch.load('Y_valid.pt')\n",
        "ytest = torch.load('Y_test.pt')"
      ],
      "execution_count": 21,
      "outputs": []
    },
    {
      "cell_type": "code",
      "metadata": {
        "id": "GXAE1v7FB1hF"
      },
      "source": [
        "# 標準的に必要となるライブラリ\n",
        "import torch.nn as nn\n",
        "import torch.optim as optim\n",
        "import torch.nn.functional as F\n",
        "import numpy as np"
      ],
      "execution_count": 22,
      "outputs": []
    },
    {
      "cell_type": "code",
      "metadata": {
        "id": "G2CYSj2zmm8o"
      },
      "source": [
        "# モデルの設定\n",
        "class Nlp71(nn.Module):\n",
        "  def __init__(self):\n",
        "    super(Nlp71, self).__init__()\n",
        "    # 単層(layer:レイヤー)を定義\n",
        "    # 一つの単語ベクトルは300次元で、ラベルが４,バイアス項はなし\n",
        "    self.l1=nn.Linear(300,4, bias=False)\n",
        "    # 今回は重みをランダムな値で(正規分布により)初期化する\n",
        "    nn.init.normal_(self.l1.weight, 0.0, 1.0) \n",
        "        \n",
        "  # 順方向の計算\n",
        "  def forward(self,x):\n",
        "    # ソフトマックス関数を適用する(dim=-1で行のsoftmaxを指定)\n",
        "    h1 = torch.softmax(self.l1(x), dim=-1)\n",
        "    return h1"
      ],
      "execution_count": 23,
      "outputs": []
    },
    {
      "cell_type": "code",
      "metadata": {
        "colab": {
          "base_uri": "https://localhost:8080/"
        },
        "id": "ChuNLf81mngL",
        "outputId": "41a35137-7a4d-4dc3-bec0-2e51c69bbc68"
      },
      "source": [
        "# モデルのインスタンス作成\n",
        "model = Nlp71()\n",
        "# y1ハット(事例x1の予測)を求める\n",
        "y1_hat=model(xtrain[:1])\n",
        "print(y1_hat)"
      ],
      "execution_count": 24,
      "outputs": [
        {
          "output_type": "stream",
          "text": [
            "tensor([[0.1170, 0.2381, 0.0695, 0.5754]], grad_fn=<SoftmaxBackward>)\n"
          ],
          "name": "stdout"
        }
      ]
    },
    {
      "cell_type": "code",
      "metadata": {
        "colab": {
          "base_uri": "https://localhost:8080/"
        },
        "id": "sRUpBy95t9TL",
        "outputId": "bb0b648e-39d1-4319-9e0e-faf89db27622"
      },
      "source": [
        "# Yハット(x1~x4までの予測)を求める\n",
        "Y_hat = model(xtrain[:4])\n",
        "print(Y_hat)"
      ],
      "execution_count": 25,
      "outputs": [
        {
          "output_type": "stream",
          "text": [
            "tensor([[0.1170, 0.2381, 0.0695, 0.5754],\n",
            "        [0.2908, 0.1296, 0.4754, 0.1042],\n",
            "        [0.1781, 0.4636, 0.1318, 0.2265],\n",
            "        [0.0373, 0.7474, 0.1613, 0.0539]], grad_fn=<SoftmaxBackward>)\n"
          ],
          "name": "stdout"
        }
      ]
    },
    {
      "cell_type": "code",
      "metadata": {
        "id": "FNbiFpgevIUl"
      },
      "source": [
        "# 72. 損失と勾配の計算\n",
        "# 損失関数の設定（クロスエントロピー損失）\n",
        "criterion = nn.CrossEntropyLoss()"
      ],
      "execution_count": 26,
      "outputs": []
    },
    {
      "cell_type": "code",
      "metadata": {
        "colab": {
          "base_uri": "https://localhost:8080/"
        },
        "id": "1aBneEeX5RX9",
        "outputId": "ed4b29c6-5818-4cd4-e679-d64cc600b188"
      },
      "source": [
        "# y1ハット(事例x1)に対する損失を求める\n",
        "loss_y1 = criterion(y1_hat, ytrain[:1])\n",
        "# 次に重みに対しての勾配を求める\n",
        "# 勾配をzero_grad()で初期化してからbackward()で求める\n",
        "model.zero_grad()\n",
        "loss_y1.backward()\n",
        "print('損失：', loss_y1.item())\n",
        "print('勾配：', model.l1.weight.grad)"
      ],
      "execution_count": 27,
      "outputs": [
        {
          "output_type": "stream",
          "text": [
            "損失： 1.5398969650268555\n",
            "勾配： tensor([[ 1.5726e-02, -5.8687e-03,  8.1061e-03,  ..., -3.4050e-03,\n",
            "         -2.5134e-03,  9.1725e-03],\n",
            "        [-2.2302e-03,  8.3226e-04, -1.1495e-03,  ...,  4.8287e-04,\n",
            "          3.5644e-04, -1.3008e-03],\n",
            "        [-2.8570e-04,  1.0662e-04, -1.4727e-04,  ...,  6.1859e-05,\n",
            "          4.5663e-05, -1.6664e-04],\n",
            "        [-1.3210e-02,  4.9298e-03, -6.8093e-03,  ...,  2.8602e-03,\n",
            "          2.1113e-03, -7.7051e-03]])\n"
          ],
          "name": "stdout"
        }
      ]
    },
    {
      "cell_type": "code",
      "metadata": {
        "colab": {
          "base_uri": "https://localhost:8080/"
        },
        "id": "D09opQXI6fUt",
        "outputId": "a57d65b7-ef43-44cf-8a6a-1ce4340b7bef"
      },
      "source": [
        "# Yハット(事例x1~x4)に対する損失を求める\n",
        "loss_Y = criterion(Y_hat, ytrain[:4])\n",
        "model.zero_grad()\n",
        "loss_Y.backward()\n",
        "print('損失：', loss_Y.item())\n",
        "print('勾配：', model.l1.weight.grad)"
      ],
      "execution_count": 28,
      "outputs": [
        {
          "output_type": "stream",
          "text": [
            "損失： 1.5137498378753662\n",
            "勾配： tensor([[ 8.7013e-03, -1.0284e-03,  1.3730e-03,  ..., -6.7144e-03,\n",
            "         -3.3870e-03,  3.3764e-03],\n",
            "        [-3.5618e-03,  1.7197e-04,  3.1312e-03,  ...,  7.2221e-04,\n",
            "          3.0929e-03, -1.2069e-03],\n",
            "        [-1.1572e-03,  2.2852e-04, -3.3255e-03,  ...,  4.5412e-03,\n",
            "         -1.1259e-03, -7.8721e-05],\n",
            "        [-3.9823e-03,  6.2794e-04, -1.1787e-03,  ...,  1.4511e-03,\n",
            "          1.4200e-03, -2.0908e-03]])\n"
          ],
          "name": "stdout"
        }
      ]
    },
    {
      "cell_type": "code",
      "metadata": {
        "id": "o31D0wS875Ca"
      },
      "source": [
        "# 73. 確率的勾配降下法による学習\n",
        "# モデルの設定\n",
        "class Nlp73(nn.Module):\n",
        "  def __init__(self):\n",
        "    super(Nlp73, self).__init__()\n",
        "    self.l1=nn.Linear(300,4, bias=False)\n",
        "    # 今回は学習するので初期化は省略\n",
        "        \n",
        "  # 順方向の計算\n",
        "  def forward(self,x):\n",
        "    h1 = torch.softmax(self.l1(x), dim=-1)\n",
        "    return h1"
      ],
      "execution_count": 29,
      "outputs": []
    },
    {
      "cell_type": "code",
      "metadata": {
        "id": "wW-Kf84m9XaW"
      },
      "source": [
        "# 損失、モデルのインスタンス、最適化関数の設定\n",
        "criterion = nn.CrossEntropyLoss()\n",
        "model = Nlp73()\n",
        "# 最適化関数はSGDを用いる。学習率は試行錯誤(今回は0.1とした)\n",
        "optimizer = optim.SGD(model.parameters(), lr=0.1)"
      ],
      "execution_count": 30,
      "outputs": []
    },
    {
      "cell_type": "code",
      "metadata": {
        "id": "cQ5g35BN9j-p"
      },
      "source": [
        "# 学習の開始\n",
        "model.train()\n",
        "# 100エポックで終了とする\n",
        "for ep in range(100):\n",
        "  # ミニバッチ化はこの問題では行わないのでバッチ処理となる\n",
        "  output = model(xtrain) # 順方向の計算\n",
        "  loss = criterion(output, ytrain) # 順方向の出力と教師信号から誤差を得る\n",
        "  optimizer.zero_grad() # 勾配(微分値)を初期化(必要)\n",
        "  loss.backward() # 損失関数に対する変数(パラメータ)の微分値を求める\n",
        "  optimizer.step() # optimizerに設定されたパラメータを更新"
      ],
      "execution_count": 31,
      "outputs": []
    },
    {
      "cell_type": "code",
      "metadata": {
        "colab": {
          "base_uri": "https://localhost:8080/"
        },
        "id": "xmCvBl7LGLcx",
        "outputId": "e6c18923-76df-403a-f6db-79d530def105"
      },
      "source": [
        "# 74. 正解率の計測\n",
        "# テスト実行\n",
        "model.eval()\n",
        "with torch.no_grad():\n",
        "  # 順方向による出力\n",
        "  output_train = model(xtrain)\n",
        "  output_test = model(xtest)\n",
        "  # 各データの出力値の最も高いラベル(予測ラベル)を1次元配列で取得する\n",
        "  ans_train = torch.argmax(output_train,1)\n",
        "  ans_test = torch.argmax(output_test,1)\n",
        "  # 正解ラベルと予測ラベルをもとに正解率を出力\n",
        "  print('学習データの正解率：',((ytrain == ans_train).sum().float() / len(ans_train)).item())\n",
        "  print('評価データの正解率：',((ytest == ans_test).sum().float() / len(ans_test)).item())"
      ],
      "execution_count": 32,
      "outputs": [
        {
          "output_type": "stream",
          "text": [
            "学習データの正解率： 0.7738006114959717\n",
            "評価データの正解率： 0.7623687982559204\n"
          ],
          "name": "stdout"
        }
      ]
    },
    {
      "cell_type": "code",
      "metadata": {
        "id": "gQjiknlAOlpT"
      },
      "source": [
        "# 75. 損失と正解率のプロット\n",
        "# モデルの設定~最適化関数までは同じ(モデルの名前だけ変更)\n",
        "class Nlp75(nn.Module):\n",
        "  def __init__(self):\n",
        "    super(Nlp75, self).__init__()\n",
        "    self.l1=nn.Linear(300,4, bias=False)\n",
        "        \n",
        "  def forward(self,x):\n",
        "    h1 = torch.softmax(self.l1(x), dim=-1)\n",
        "    return h1"
      ],
      "execution_count": 33,
      "outputs": []
    },
    {
      "cell_type": "code",
      "metadata": {
        "id": "FcjWLFB-TCDr"
      },
      "source": [
        "# 正解率と損失の計算のための関数\n",
        "def cal_loss_accuracy(model, criterion, X, Y):\n",
        "  model.eval()\n",
        "  with torch.no_grad():\n",
        "    # 順方向による出力\n",
        "    output = model(X)\n",
        "    # 損失の計算\n",
        "    loss = criterion(output, Y).item()\n",
        "    # 正解率の計算\n",
        "    ans = torch.argmax(output,1)\n",
        "    accuracy = ((Y == ans).sum().float() / len(ans)).item()\n",
        "\n",
        "  return loss, accuracy"
      ],
      "execution_count": 34,
      "outputs": []
    },
    {
      "cell_type": "code",
      "metadata": {
        "id": "cxTXyzy8RtZc"
      },
      "source": [
        "# モデルのインスタンス、損失関数、最適化関数の設定\n",
        "criterion = nn.CrossEntropyLoss()\n",
        "model = Nlp75()\n",
        "optimizer = optim.SGD(model.parameters(), lr=0.1)\n",
        "# 学習の開始\n",
        "model.train()\n",
        "log_train = []\n",
        "log_valid = []\n",
        "\n",
        "# 100エポックで終了とする(学習の進め方は同じ)\n",
        "for ep in range(100):\n",
        "  output = model(xtrain)\n",
        "  loss = criterion(output, ytrain)\n",
        "  optimizer.zero_grad()\n",
        "  loss.backward()\n",
        "  optimizer.step()\n",
        "\n",
        "  # グラフにプロットするための損失と正解率の算出\n",
        "  loss_train, accuracy_train = cal_loss_accuracy(model, criterion, xtrain, ytrain)\n",
        "  loss_valid, accuracy_valid = cal_loss_accuracy(model, criterion, xvalid, yvalid)\n",
        "  log_train.append([loss_train, accuracy_train])\n",
        "  log_valid.append([loss_valid, accuracy_valid])"
      ],
      "execution_count": 35,
      "outputs": []
    },
    {
      "cell_type": "code",
      "metadata": {
        "colab": {
          "base_uri": "https://localhost:8080/",
          "height": 336
        },
        "id": "sjFTqr5dbxsh",
        "outputId": "f245a69a-5a7c-4b1b-8a2b-d3dea106afe1"
      },
      "source": [
        "# グラフの描写\n",
        "# 動的(エポックごと)に表示ができなかったので、すべての計算が終わったのちに表示する\n",
        "from matplotlib import pyplot as plt\n",
        "\n",
        "# 視覚化\n",
        "fig, ax = plt.subplots(1, 2, figsize=(15, 5))\n",
        "ax[0].plot(np.array(log_train).T[0], label='train')\n",
        "ax[0].plot(np.array(log_valid).T[0], label='valid')\n",
        "ax[0].set_xlabel('epoch')\n",
        "ax[0].set_ylabel('loss')\n",
        "ax[0].legend()\n",
        "ax[1].plot(np.array(log_train).T[1], label='train')\n",
        "ax[1].plot(np.array(log_valid).T[1], label='valid')\n",
        "ax[1].set_xlabel('epoch')\n",
        "ax[1].set_ylabel('accuracy')\n",
        "ax[1].legend()\n",
        "plt.show()"
      ],
      "execution_count": 36,
      "outputs": [
        {
          "output_type": "display_data",
          "data": {
            "image/png": "[encoded data removed]",
            "text/plain": [
              "<Figure size 1080x360 with 2 Axes>"
            ]
          },
          "metadata": {
            "tags": [],
            "needs_background": "light"
          }
        }
      ]
    },
    {
      "cell_type": "code",
      "metadata": {
        "id": "uUYRxSK0d7-_"
      },
      "source": [
        "# 76. チェックポイント\n",
        "# モデルの設定\n",
        "class Nlp76(nn.Module):\n",
        "  def __init__(self):\n",
        "    super(Nlp76, self).__init__()\n",
        "    self.l1=nn.Linear(300,4, bias=False)\n",
        "  \n",
        "  def forward(self,x):\n",
        "    h1 = torch.softmax(self.l1(x), dim=-1)\n",
        "    return h1"
      ],
      "execution_count": 37,
      "outputs": []
    },
    {
      "cell_type": "code",
      "metadata": {
        "id": "2RYnCCiLQdk2"
      },
      "source": [
        "# モデルのインスタンス、損失関数、最適化関数の設定\n",
        "criterion = nn.CrossEntropyLoss()\n",
        "model = Nlp76()\n",
        "optimizer = optim.SGD(model.parameters(), lr=0.1)\n",
        "# 学習の開始\n",
        "# 今回はチェックポイントをファイルに書き出すことが目的のため\n",
        "# 正解率損失の計算、プロットは省略する\n",
        "model.train()\n",
        "\n",
        "# 30エポックで終了とする(ファイル数を少なくするため)\n",
        "for ep in range(30):\n",
        "  output = model(xtrain) \n",
        "  loss = criterion(output, ytrain) \n",
        "  optimizer.zero_grad()\n",
        "  loss.backward() \n",
        "  optimizer.step() \n",
        "\n",
        "  # パラメータの値はmodel.state_dict()で確認可能\n",
        "  # 最適化アルゴリズムの内部状態も同じくoptimizer.state_dict()\n",
        "  f_name='checkpoint' + str(ep) +'.pt'\n",
        "\n",
        "  # チェックポイントの保存\n",
        "  torch.save({'model_state': model.state_dict(), 'optimizer_state': optimizer.state_dict()}, f_name)"
      ],
      "execution_count": 38,
      "outputs": []
    },
    {
      "cell_type": "code",
      "metadata": {
        "id": "pjaUTmRPgcEE"
      },
      "source": [
        "# 77. ミニバッチ化\n",
        "# モデルの設定\n",
        "class Nlp77(nn.Module):\n",
        "  def __init__(self):\n",
        "    super(Nlp77, self).__init__()\n",
        "    self.l1=nn.Linear(300,4, bias=False)\n",
        "\n",
        "  def forward(self,x):\n",
        "    h1 = torch.softmax(self.l1(x), dim=-1)\n",
        "    return h1"
      ],
      "execution_count": 39,
      "outputs": []
    },
    {
      "cell_type": "code",
      "metadata": {
        "id": "Tlh7MjK9oNEn"
      },
      "source": [
        "# テストデータの正解率計算のための関数\n",
        "def cal_test_accuracy77(model):\n",
        "  model.eval()\n",
        "  with torch.no_grad():\n",
        "    # 順方向による出力\n",
        "    output = model(xtest)\n",
        "    # 正解率の計算\n",
        "    ans = torch.argmax(output,1)\n",
        "    accuracy = ((ytest == ans).sum().float() / len(ans)).item()\n",
        "\n",
        "  return accuracy"
      ],
      "execution_count": 40,
      "outputs": []
    },
    {
      "cell_type": "code",
      "metadata": {
        "id": "dNggbt3VkOgQ"
      },
      "source": [
        "# 今回は各バッチサイズごとの処理時間とテストデータの正解率を出力するようにする\n",
        "# 時間計測のためtimeをインポートする\n",
        "import time\n",
        "\n",
        "# 学習の関数\n",
        "def model_train77(n, bs):\n",
        "  # モデルのインスタンス、損失関数、最適化関数の設定\n",
        "  # 各バッヂごとに初期化する\n",
        "  criterion = nn.CrossEntropyLoss()\n",
        "  model = Nlp77()\n",
        "  optimizer = optim.SGD(model.parameters(), lr=0.1)\n",
        "\n",
        "  # 学習の開始\n",
        "  model.train()\n",
        "  # 30エポックで終了とする\n",
        "  for ep in range(30):\n",
        "    # 開始時間の計測\n",
        "    s_time = time.time()\n",
        "\n",
        "    # permutationにより数値をシャッフル\n",
        "    idx = np.random.permutation(n)\n",
        "\n",
        "    # 訓練データをバッチサイズごとに刻んでいく\n",
        "    for i in range(0, n, bs):\n",
        "      # バッチサイズ分のデータを取得する\n",
        "      xtm = xtrain[idx[i:(i+bs) if (i+bs) < n else n]]\n",
        "      ytm = ytrain[idx[i:(i+bs) if (i+bs) < n else n]]\n",
        "      output = model(xtm) \n",
        "      loss = criterion(output, ytm) \n",
        "      optimizer.zero_grad()\n",
        "      loss.backward() \n",
        "      optimizer.step()\n",
        "\n",
        "    # 1エポックの終了時間の計測\n",
        "    e_time = time.time()\n",
        "    # 最終エポックの学習にかかった時間を表示する\n",
        "    if ep == 0:\n",
        "      print('バッチサイズ：',bs,'処理時間：', e_time - s_time)\n",
        "  \n",
        "  print('accuracy：', cal_test_accuracy77(model))"
      ],
      "execution_count": 41,
      "outputs": []
    },
    {
      "cell_type": "code",
      "metadata": {
        "colab": {
          "base_uri": "https://localhost:8080/"
        },
        "id": "kxgCriXwpjCw",
        "outputId": "153b00b3-961e-469d-f242-657c5b35ebdf"
      },
      "source": [
        "# 実行\n",
        "# データサイズ\n",
        "n = len(xtrain)\n",
        "# バッチサイズ(1~8までとしておく)\n",
        "bs_list = [1, 2, 4, 8]\n",
        "# バッチサイズを変更するたびに初期化するために関数を使用した\n",
        "for bs in bs_list:\n",
        "  model_train77(n, bs)"
      ],
      "execution_count": 42,
      "outputs": [
        {
          "output_type": "stream",
          "text": [
            "バッチサイズ： 1 処理時間： 2.2152798175811768\n",
            "accuracy： 0.9062968492507935\n",
            "バッチサイズ： 2 処理時間： 1.2101922035217285\n",
            "accuracy： 0.8965517282485962\n",
            "バッチサイズ： 4 処理時間： 0.6124587059020996\n",
            "accuracy： 0.8905547261238098\n",
            "バッチサイズ： 8 処理時間： 0.3123960494995117\n",
            "accuracy： 0.8665667176246643\n"
          ],
          "name": "stdout"
        }
      ]
    },
    {
      "cell_type": "code",
      "metadata": {
        "id": "sBBq1fh2_wOS"
      },
      "source": [
        "# 78. GPU上での学習\n",
        "# モデルの設定(77からの流用)\n",
        "class Nlp78(nn.Module):\n",
        "  def __init__(self):\n",
        "    super(Nlp78, self).__init__()\n",
        "    self.l1=nn.Linear(300,4, bias=False)\n",
        "\n",
        "  def forward(self,x):\n",
        "    h1 = torch.softmax(self.l1(x), dim=-1)\n",
        "    return h1"
      ],
      "execution_count": 43,
      "outputs": []
    },
    {
      "cell_type": "code",
      "metadata": {
        "id": "_Wia1ROgARU8"
      },
      "source": [
        "# GPUに送るためのコード\n",
        "device = torch.device(\"cuda:0\" \n",
        "                     if torch.cuda.is_available()\n",
        "                     else \"cpu\") "
      ],
      "execution_count": 44,
      "outputs": []
    },
    {
      "cell_type": "code",
      "metadata": {
        "id": "oApxb7PoAWO6"
      },
      "source": [
        "# GPUを使用するために入力TensorをGPUに送る\n",
        "xtrain_gpu = xtrain.to(device)\n",
        "xvalid_gpu = xvalid.to(device)\n",
        "xtest_gpu = xtest.to(device)\n",
        "ytrain_gpu = ytrain.to(device)\n",
        "yvalid_gpu = yvalid.to(device)\n",
        "ytest_gpu = ytest.to(device)"
      ],
      "execution_count": 45,
      "outputs": []
    },
    {
      "cell_type": "code",
      "metadata": {
        "id": "cMZWJsng_JM3"
      },
      "source": [
        "# テストデータの正解率計算のための関数(77からの流用)\n",
        "def cal_test_accuracy78(model):\n",
        "  model.eval()\n",
        "  with torch.no_grad():\n",
        "    output = model(xtest_gpu)\n",
        "    ans = torch.argmax(output,1)\n",
        "    accuracy = ((ytest_gpu == ans).sum().float() / len(ans)).item()\n",
        "\n",
        "  return accuracy"
      ],
      "execution_count": 46,
      "outputs": []
    },
    {
      "cell_type": "code",
      "metadata": {
        "id": "Dn6sDHWR_pPm"
      },
      "source": [
        "# 学習の関数(77からの流用)\n",
        "def model_train78(n, bs):\n",
        "\n",
        "  criterion = nn.CrossEntropyLoss()\n",
        "  # モデルのインスタンス作成時にGPUに移動させる\n",
        "  model = Nlp78().to(device)\n",
        "  optimizer = optim.SGD(model.parameters(), lr=0.1)\n",
        "\n",
        "  # 学習の開始(使うデータはGPUに移動したものを使用)\n",
        "  model.train()\n",
        "  for ep in range(30):\n",
        "    s_time = time.time()\n",
        "    idx = np.random.permutation(n)\n",
        "    for i in range(0, n, bs):\n",
        "      xtm = xtrain_gpu[idx[i:(i+bs) if (i+bs) < n else n]]\n",
        "      ytm = ytrain_gpu[idx[i:(i+bs) if (i+bs) < n else n]]\n",
        "      output = model(xtm) \n",
        "      loss = criterion(output, ytm) \n",
        "      optimizer.zero_grad()\n",
        "      loss.backward() \n",
        "      optimizer.step()\n",
        "    e_time = time.time()\n",
        "    if ep == 0:\n",
        "      print('バッチサイズ：',bs,'処理時間：', e_time - s_time)\n",
        "  print('accuracy：', cal_test_accuracy78(model))"
      ],
      "execution_count": 47,
      "outputs": []
    },
    {
      "cell_type": "code",
      "metadata": {
        "colab": {
          "base_uri": "https://localhost:8080/"
        },
        "id": "jSfQRoLA_15T",
        "outputId": "812a00e6-fc00-4ec7-8aa5-9e7a82250793"
      },
      "source": [
        "# 実行\n",
        "# 今回用いたGPUは自分のPCの内臓GPUなので性能が低いのだと思われる\n",
        "n = len(xtrain_gpu)\n",
        "bs_list = [1, 2, 4, 8]\n",
        "for bs in bs_list:\n",
        "  model_train78(n, bs)"
      ],
      "execution_count": 48,
      "outputs": [
        {
          "output_type": "stream",
          "text": [
            "バッチサイズ： 1 処理時間： 6.18485164642334\n",
            "accuracy： 0.9032983779907227\n",
            "バッチサイズ： 2 処理時間： 3.0080318450927734\n",
            "accuracy： 0.9017991423606873\n",
            "バッチサイズ： 4 処理時間： 1.5457637310028076\n",
            "accuracy： 0.8898051381111145\n",
            "バッチサイズ： 8 処理時間： 0.7735369205474854\n",
            "accuracy： 0.8688156008720398\n"
          ],
          "name": "stdout"
        }
      ]
    },
    {
      "cell_type": "code",
      "metadata": {
        "id": "JcjujzWC3RQB"
      },
      "source": [
        "# 79. 多層ニューラルネットワーク\n",
        "# モデルの設定\n",
        "class Nlp79(nn.Module):\n",
        "  def __init__(self):\n",
        "    super(Nlp79, self).__init__()\n",
        "    self.l1=nn.Linear(300,4)\n",
        "\n",
        "  def forward(self,x):\n",
        "    h1 = torch.softmax(self.l1(x), dim=-1)\n",
        "    return h1"
      ],
      "execution_count": 49,
      "outputs": []
    },
    {
      "cell_type": "code",
      "metadata": {
        "id": "G3ZWODAT3Mft"
      },
      "source": [
        "# テストデータの正解率計算のための関数\n",
        "def cal_test_accuracy79(model):\n",
        "  model.eval()\n",
        "  with torch.no_grad():\n",
        "    # 順方向による出力\n",
        "    output = model(xtest)\n",
        "    # 正解率の計算\n",
        "    ans = torch.argmax(output,1)\n",
        "    accuracy = ((ytest == ans).sum().float() / len(ans)).item()\n",
        "\n",
        "  return accuracy"
      ],
      "execution_count": 50,
      "outputs": []
    },
    {
      "cell_type": "code",
      "metadata": {
        "colab": {
          "base_uri": "https://localhost:8080/"
        },
        "id": "6xqldAA846KY",
        "outputId": "af94dd62-e6e9-462d-f24f-db55cea92a0f"
      },
      "source": [
        "# モデルのインスタンス、損失関数、最適化関数の設定\n",
        "# 各バッヂごとに初期化する\n",
        "criterion = nn.CrossEntropyLoss()\n",
        "model = Nlp79()\n",
        "optimizer = optim.SGD(model.parameters(), lr=0.1)\n",
        "\n",
        "n = len(xtrain)\n",
        "bs = 1\n",
        "\n",
        "# 学習の開始\n",
        "model.train()\n",
        "# 30エポックで終了とする\n",
        "for ep in range(100):\n",
        "\n",
        "\n",
        "  # permutationにより数値をシャッフル\n",
        "  idx = np.random.permutation(n)\n",
        "\n",
        "  # 訓練データをバッチサイズごとに刻んでいく\n",
        "  for i in range(0, n, bs):\n",
        "    # バッチサイズ分のデータを取得する\n",
        "    xtm = xtrain[idx[i:(i+bs) if (i+bs) < n else n]]\n",
        "    ytm = ytrain[idx[i:(i+bs) if (i+bs) < n else n]]\n",
        "    output = model(xtm) \n",
        "    loss = criterion(output, ytm) \n",
        "    optimizer.zero_grad()\n",
        "    loss.backward() \n",
        "    optimizer.step()\n",
        "\n",
        "\n",
        "print('accuracy：', cal_test_accuracy79(model))"
      ],
      "execution_count": 51,
      "outputs": [
        {
          "output_type": "stream",
          "text": [
            "accuracy： 0.9107946157455444\n"
          ],
          "name": "stdout"
        }
      ]
    }
  ]
}