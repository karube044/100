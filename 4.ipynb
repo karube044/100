{
  "nbformat": 4,
  "nbformat_minor": 0,
  "metadata": {
    "colab": {
      "name": "4.ipynb",
      "provenance": [],
      "collapsed_sections": []
    },
    "kernelspec": {
      "name": "python3",
      "display_name": "Python 3"
    },
    "language_info": {
      "name": "python"
    }
  },
  "cells": [
    {
      "cell_type": "code",
      "metadata": {
        "colab": {
          "base_uri": "https://localhost:8080/"
        },
        "id": "BXaHYmtogz3u",
        "outputId": "2c5fa934-55d4-4fea-d78c-cd8b64b27d4a"
      },
      "source": [
        "#準備\n",
        "#neko.txtを取得\n",
        "!wget https://nlp100.github.io/data/neko.txt"
      ],
      "execution_count": 1,
      "outputs": [
        {
          "output_type": "stream",
          "text": [
            "--2021-05-11 05:42:02--  https://nlp100.github.io/data/neko.txt\n",
            "Resolving nlp100.github.io (nlp100.github.io)... 185.199.108.153, 185.199.109.153, 185.199.110.153, ...\n",
            "Connecting to nlp100.github.io (nlp100.github.io)|185.199.108.153|:443... connected.\n",
            "HTTP request sent, awaiting response... 200 OK\n",
            "Length: 975789 (953K) [text/plain]\n",
            "Saving to: ‘neko.txt’\n",
            "\n",
            "neko.txt            100%[===================>] 952.92K  --.-KB/s    in 0.07s   \n",
            "\n",
            "2021-05-11 05:42:02 (12.7 MB/s) - ‘neko.txt’ saved [975789/975789]\n",
            "\n"
          ],
          "name": "stdout"
        }
      ]
    },
    {
      "cell_type": "code",
      "metadata": {
        "colab": {
          "base_uri": "https://localhost:8080/"
        },
        "id": "hXPollOKhu-d",
        "outputId": "77e8e5aa-6046-4e3b-9727-302719dfc87b"
      },
      "source": [
        "#準備\n",
        "#MeCabをインストール\n",
        "!apt install mecab libmecab-dev mecab-ipadic-utf8"
      ],
      "execution_count": 2,
      "outputs": [
        {
          "output_type": "stream",
          "text": [
            "Reading package lists... Done\n",
            "Building dependency tree       \n",
            "Reading state information... Done\n",
            "The following package was automatically installed and is no longer required:\n",
            "  libnvidia-common-460\n",
            "Use 'apt autoremove' to remove it.\n",
            "The following additional packages will be installed:\n",
            "  libmecab2 mecab-ipadic mecab-jumandic mecab-jumandic-utf8 mecab-utils\n",
            "The following NEW packages will be installed:\n",
            "  libmecab-dev libmecab2 mecab mecab-ipadic mecab-ipadic-utf8 mecab-jumandic\n",
            "  mecab-jumandic-utf8 mecab-utils\n",
            "0 upgraded, 8 newly installed, 0 to remove and 34 not upgraded.\n",
            "Need to get 29.0 MB of archives.\n",
            "After this operation, 277 MB of additional disk space will be used.\n",
            "Get:1 http://archive.ubuntu.com/ubuntu bionic/universe amd64 libmecab2 amd64 0.996-5 [257 kB]\n",
            "Get:2 http://archive.ubuntu.com/ubuntu bionic/universe amd64 libmecab-dev amd64 0.996-5 [308 kB]\n",
            "Get:3 http://archive.ubuntu.com/ubuntu bionic/universe amd64 mecab-utils amd64 0.996-5 [4,856 B]\n",
            "Get:4 http://archive.ubuntu.com/ubuntu bionic/universe amd64 mecab-jumandic-utf8 all 7.0-20130310-4 [16.2 MB]\n",
            "Get:5 http://archive.ubuntu.com/ubuntu bionic/universe amd64 mecab-jumandic all 7.0-20130310-4 [2,212 B]\n",
            "Get:6 http://archive.ubuntu.com/ubuntu bionic/universe amd64 mecab-ipadic all 2.7.0-20070801+main-1 [12.1 MB]\n",
            "Get:7 http://archive.ubuntu.com/ubuntu bionic/universe amd64 mecab amd64 0.996-5 [132 kB]\n",
            "Get:8 http://archive.ubuntu.com/ubuntu bionic/universe amd64 mecab-ipadic-utf8 all 2.7.0-20070801+main-1 [3,522 B]\n",
            "Fetched 29.0 MB in 5s (5,960 kB/s)\n",
            "Selecting previously unselected package libmecab2:amd64.\n",
            "(Reading database ... 160706 files and directories currently installed.)\n",
            "Preparing to unpack .../0-libmecab2_0.996-5_amd64.deb ...\n",
            "Unpacking libmecab2:amd64 (0.996-5) ...\n",
            "Selecting previously unselected package libmecab-dev.\n",
            "Preparing to unpack .../1-libmecab-dev_0.996-5_amd64.deb ...\n",
            "Unpacking libmecab-dev (0.996-5) ...\n",
            "Selecting previously unselected package mecab-utils.\n",
            "Preparing to unpack .../2-mecab-utils_0.996-5_amd64.deb ...\n",
            "Unpacking mecab-utils (0.996-5) ...\n",
            "Selecting previously unselected package mecab-jumandic-utf8.\n",
            "Preparing to unpack .../3-mecab-jumandic-utf8_7.0-20130310-4_all.deb ...\n",
            "Unpacking mecab-jumandic-utf8 (7.0-20130310-4) ...\n",
            "Selecting previously unselected package mecab-jumandic.\n",
            "Preparing to unpack .../4-mecab-jumandic_7.0-20130310-4_all.deb ...\n",
            "Unpacking mecab-jumandic (7.0-20130310-4) ...\n",
            "Selecting previously unselected package mecab-ipadic.\n",
            "Preparing to unpack .../5-mecab-ipadic_2.7.0-20070801+main-1_all.deb ...\n",
            "Unpacking mecab-ipadic (2.7.0-20070801+main-1) ...\n",
            "Selecting previously unselected package mecab.\n",
            "Preparing to unpack .../6-mecab_0.996-5_amd64.deb ...\n",
            "Unpacking mecab (0.996-5) ...\n",
            "Selecting previously unselected package mecab-ipadic-utf8.\n",
            "Preparing to unpack .../7-mecab-ipadic-utf8_2.7.0-20070801+main-1_all.deb ...\n",
            "Unpacking mecab-ipadic-utf8 (2.7.0-20070801+main-1) ...\n",
            "Setting up libmecab2:amd64 (0.996-5) ...\n",
            "Setting up mecab-utils (0.996-5) ...\n",
            "Setting up mecab-ipadic (2.7.0-20070801+main-1) ...\n",
            "Compiling IPA dictionary for Mecab.  This takes long time...\n",
            "reading /usr/share/mecab/dic/ipadic/unk.def ... 40\n",
            "emitting double-array: 100% |###########################################| \n",
            "/usr/share/mecab/dic/ipadic/model.def is not found. skipped.\n",
            "reading /usr/share/mecab/dic/ipadic/Adj.csv ... 27210\n",
            "reading /usr/share/mecab/dic/ipadic/Prefix.csv ... 221\n",
            "reading /usr/share/mecab/dic/ipadic/Noun.proper.csv ... 27327\n",
            "reading /usr/share/mecab/dic/ipadic/Noun.number.csv ... 42\n",
            "reading /usr/share/mecab/dic/ipadic/Conjunction.csv ... 171\n",
            "reading /usr/share/mecab/dic/ipadic/Interjection.csv ... 252\n",
            "reading /usr/share/mecab/dic/ipadic/Adverb.csv ... 3032\n",
            "reading /usr/share/mecab/dic/ipadic/Others.csv ... 2\n",
            "reading /usr/share/mecab/dic/ipadic/Postp-col.csv ... 91\n",
            "reading /usr/share/mecab/dic/ipadic/Verb.csv ... 130750\n",
            "reading /usr/share/mecab/dic/ipadic/Suffix.csv ... 1393\n",
            "reading /usr/share/mecab/dic/ipadic/Symbol.csv ... 208\n",
            "reading /usr/share/mecab/dic/ipadic/Auxil.csv ... 199\n",
            "reading /usr/share/mecab/dic/ipadic/Postp.csv ... 146\n",
            "reading /usr/share/mecab/dic/ipadic/Noun.nai.csv ... 42\n",
            "reading /usr/share/mecab/dic/ipadic/Adnominal.csv ... 135\n",
            "reading /usr/share/mecab/dic/ipadic/Noun.adjv.csv ... 3328\n",
            "reading /usr/share/mecab/dic/ipadic/Noun.demonst.csv ... 120\n",
            "reading /usr/share/mecab/dic/ipadic/Noun.csv ... 60477\n",
            "reading /usr/share/mecab/dic/ipadic/Noun.name.csv ... 34202\n",
            "reading /usr/share/mecab/dic/ipadic/Noun.org.csv ... 16668\n",
            "reading /usr/share/mecab/dic/ipadic/Noun.adverbal.csv ... 795\n",
            "reading /usr/share/mecab/dic/ipadic/Filler.csv ... 19\n",
            "reading /usr/share/mecab/dic/ipadic/Noun.verbal.csv ... 12146\n",
            "reading /usr/share/mecab/dic/ipadic/Noun.place.csv ... 72999\n",
            "reading /usr/share/mecab/dic/ipadic/Noun.others.csv ... 151\n",
            "emitting double-array: 100% |###########################################| \n",
            "reading /usr/share/mecab/dic/ipadic/matrix.def ... 1316x1316\n",
            "emitting matrix      : 100% |###########################################| \n",
            "\n",
            "done!\n",
            "update-alternatives: using /var/lib/mecab/dic/ipadic to provide /var/lib/mecab/dic/debian (mecab-dictionary) in auto mode\n",
            "Setting up libmecab-dev (0.996-5) ...\n",
            "Setting up mecab-jumandic-utf8 (7.0-20130310-4) ...\n",
            "Compiling Juman dictionary for Mecab.\n",
            "reading /usr/share/mecab/dic/juman/unk.def ... 37\n",
            "emitting double-array: 100% |###########################################| \n",
            "reading /usr/share/mecab/dic/juman/Noun.suusi.csv ... 49\n",
            "reading /usr/share/mecab/dic/juman/AuxV.csv ... 593\n",
            "reading /usr/share/mecab/dic/juman/Prefix.csv ... 90\n",
            "reading /usr/share/mecab/dic/juman/Auto.csv ... 18931\n",
            "reading /usr/share/mecab/dic/juman/Noun.hukusi.csv ... 81\n",
            "reading /usr/share/mecab/dic/juman/Demonstrative.csv ... 97\n",
            "reading /usr/share/mecab/dic/juman/Suffix.csv ... 2128\n",
            "reading /usr/share/mecab/dic/juman/Special.csv ... 158\n",
            "reading /usr/share/mecab/dic/juman/Wikipedia.csv ... 167709\n",
            "reading /usr/share/mecab/dic/juman/Noun.keishiki.csv ... 8\n",
            "reading /usr/share/mecab/dic/juman/Postp.csv ... 108\n",
            "reading /usr/share/mecab/dic/juman/ContentW.csv ... 551145\n",
            "reading /usr/share/mecab/dic/juman/Emoticon.csv ... 972\n",
            "reading /usr/share/mecab/dic/juman/Assert.csv ... 34\n",
            "reading /usr/share/mecab/dic/juman/Noun.koyuu.csv ... 7964\n",
            "reading /usr/share/mecab/dic/juman/Rengo.csv ... 1118\n",
            "emitting double-array: 100% |###########################################| \n",
            "reading /usr/share/mecab/dic/juman/matrix.def ... 1876x1876\n",
            "emitting matrix      : 100% |###########################################| \n",
            "\n",
            "done!\n",
            "Setting up mecab-ipadic-utf8 (2.7.0-20070801+main-1) ...\n",
            "Compiling IPA dictionary for Mecab.  This takes long time...\n",
            "reading /usr/share/mecab/dic/ipadic/unk.def ... 40\n",
            "emitting double-array: 100% |###########################################| \n",
            "/usr/share/mecab/dic/ipadic/model.def is not found. skipped.\n",
            "reading /usr/share/mecab/dic/ipadic/Adj.csv ... 27210\n",
            "reading /usr/share/mecab/dic/ipadic/Prefix.csv ... 221\n",
            "reading /usr/share/mecab/dic/ipadic/Noun.proper.csv ... 27327\n",
            "reading /usr/share/mecab/dic/ipadic/Noun.number.csv ... 42\n",
            "reading /usr/share/mecab/dic/ipadic/Conjunction.csv ... 171\n",
            "reading /usr/share/mecab/dic/ipadic/Interjection.csv ... 252\n",
            "reading /usr/share/mecab/dic/ipadic/Adverb.csv ... 3032\n",
            "reading /usr/share/mecab/dic/ipadic/Others.csv ... 2\n",
            "reading /usr/share/mecab/dic/ipadic/Postp-col.csv ... 91\n",
            "reading /usr/share/mecab/dic/ipadic/Verb.csv ... 130750\n",
            "reading /usr/share/mecab/dic/ipadic/Suffix.csv ... 1393\n",
            "reading /usr/share/mecab/dic/ipadic/Symbol.csv ... 208\n",
            "reading /usr/share/mecab/dic/ipadic/Auxil.csv ... 199\n",
            "reading /usr/share/mecab/dic/ipadic/Postp.csv ... 146\n",
            "reading /usr/share/mecab/dic/ipadic/Noun.nai.csv ... 42\n",
            "reading /usr/share/mecab/dic/ipadic/Adnominal.csv ... 135\n",
            "reading /usr/share/mecab/dic/ipadic/Noun.adjv.csv ... 3328\n",
            "reading /usr/share/mecab/dic/ipadic/Noun.demonst.csv ... 120\n",
            "reading /usr/share/mecab/dic/ipadic/Noun.csv ... 60477\n",
            "reading /usr/share/mecab/dic/ipadic/Noun.name.csv ... 34202\n",
            "reading /usr/share/mecab/dic/ipadic/Noun.org.csv ... 16668\n",
            "reading /usr/share/mecab/dic/ipadic/Noun.adverbal.csv ... 795\n",
            "reading /usr/share/mecab/dic/ipadic/Filler.csv ... 19\n",
            "reading /usr/share/mecab/dic/ipadic/Noun.verbal.csv ... 12146\n",
            "reading /usr/share/mecab/dic/ipadic/Noun.place.csv ... 72999\n",
            "reading /usr/share/mecab/dic/ipadic/Noun.others.csv ... 151\n",
            "emitting double-array: 100% |###########################################| \n",
            "reading /usr/share/mecab/dic/ipadic/matrix.def ... 1316x1316\n",
            "emitting matrix      : 100% |###########################################| \n",
            "\n",
            "done!\n",
            "update-alternatives: using /var/lib/mecab/dic/ipadic-utf8 to provide /var/lib/mecab/dic/debian (mecab-dictionary) in auto mode\n",
            "Setting up mecab (0.996-5) ...\n",
            "Compiling IPA dictionary for Mecab.  This takes long time...\n",
            "reading /usr/share/mecab/dic/ipadic/unk.def ... 40\n",
            "emitting double-array: 100% |###########################################| \n",
            "/usr/share/mecab/dic/ipadic/model.def is not found. skipped.\n",
            "reading /usr/share/mecab/dic/ipadic/Adj.csv ... 27210\n",
            "reading /usr/share/mecab/dic/ipadic/Prefix.csv ... 221\n",
            "reading /usr/share/mecab/dic/ipadic/Noun.proper.csv ... 27327\n",
            "reading /usr/share/mecab/dic/ipadic/Noun.number.csv ... 42\n",
            "reading /usr/share/mecab/dic/ipadic/Conjunction.csv ... 171\n",
            "reading /usr/share/mecab/dic/ipadic/Interjection.csv ... 252\n",
            "reading /usr/share/mecab/dic/ipadic/Adverb.csv ... 3032\n",
            "reading /usr/share/mecab/dic/ipadic/Others.csv ... 2\n",
            "reading /usr/share/mecab/dic/ipadic/Postp-col.csv ... 91\n",
            "reading /usr/share/mecab/dic/ipadic/Verb.csv ... 130750\n",
            "reading /usr/share/mecab/dic/ipadic/Suffix.csv ... 1393\n",
            "reading /usr/share/mecab/dic/ipadic/Symbol.csv ... 208\n",
            "reading /usr/share/mecab/dic/ipadic/Auxil.csv ... 199\n",
            "reading /usr/share/mecab/dic/ipadic/Postp.csv ... 146\n",
            "reading /usr/share/mecab/dic/ipadic/Noun.nai.csv ... 42\n",
            "reading /usr/share/mecab/dic/ipadic/Adnominal.csv ... 135\n",
            "reading /usr/share/mecab/dic/ipadic/Noun.adjv.csv ... 3328\n",
            "reading /usr/share/mecab/dic/ipadic/Noun.demonst.csv ... 120\n",
            "reading /usr/share/mecab/dic/ipadic/Noun.csv ... 60477\n",
            "reading /usr/share/mecab/dic/ipadic/Noun.name.csv ... 34202\n",
            "reading /usr/share/mecab/dic/ipadic/Noun.org.csv ... 16668\n",
            "reading /usr/share/mecab/dic/ipadic/Noun.adverbal.csv ... 795\n",
            "reading /usr/share/mecab/dic/ipadic/Filler.csv ... 19\n",
            "reading /usr/share/mecab/dic/ipadic/Noun.verbal.csv ... 12146\n",
            "reading /usr/share/mecab/dic/ipadic/Noun.place.csv ... 72999\n",
            "reading /usr/share/mecab/dic/ipadic/Noun.others.csv ... 151\n",
            "emitting double-array: 100% |###########################################| \n",
            "reading /usr/share/mecab/dic/ipadic/matrix.def ... 1316x1316\n",
            "emitting matrix      : 100% |###########################################| \n",
            "\n",
            "done!\n",
            "Setting up mecab-jumandic (7.0-20130310-4) ...\n",
            "Processing triggers for man-db (2.8.3-2ubuntu0.1) ...\n",
            "Processing triggers for libc-bin (2.27-3ubuntu1.2) ...\n",
            "/sbin/ldconfig.real: /usr/local/lib/python3.7/dist-packages/ideep4py/lib/libmkldnn.so.0 is not a symbolic link\n",
            "\n"
          ],
          "name": "stdout"
        }
      ]
    },
    {
      "cell_type": "code",
      "metadata": {
        "id": "k1CrisechyxL"
      },
      "source": [
        "#準備\n",
        "#形態素解析結果を出力する\n",
        "#-oオプションでファイルの出力ができる\n",
        "!mecab -o neko.txt.mecab neko.txt"
      ],
      "execution_count": 3,
      "outputs": []
    },
    {
      "cell_type": "code",
      "metadata": {
        "colab": {
          "base_uri": "https://localhost:8080/"
        },
        "id": "im_b2Pn0h2EM",
        "outputId": "bb026eac-dfd1-4b9f-bb63-d6423d0a2be3"
      },
      "source": [
        "#準備\n",
        "#形態素解析結果のフォーマットの確認\n",
        "!head -20 neko.txt.mecab"
      ],
      "execution_count": 4,
      "outputs": [
        {
          "output_type": "stream",
          "text": [
            "一\t名詞,数,*,*,*,*,一,イチ,イチ\n",
            "\r\t記号,一般,*,*,*,*,*\n",
            "EOS\n",
            "\r\t記号,一般,*,*,*,*,*\n",
            "EOS\n",
            "　\t記号,空白,*,*,*,*,　,　,　\n",
            "吾輩\t名詞,代名詞,一般,*,*,*,吾輩,ワガハイ,ワガハイ\n",
            "は\t助詞,係助詞,*,*,*,*,は,ハ,ワ\n",
            "猫\t名詞,一般,*,*,*,*,猫,ネコ,ネコ\n",
            "で\t助動詞,*,*,*,特殊・ダ,連用形,だ,デ,デ\n",
            "ある\t助動詞,*,*,*,五段・ラ行アル,基本形,ある,アル,アル\n",
            "。\t記号,句点,*,*,*,*,。,。,。\n",
            "\r\t記号,一般,*,*,*,*,*\n",
            "EOS\n",
            "名前\t名詞,一般,*,*,*,*,名前,ナマエ,ナマエ\n",
            "は\t助詞,係助詞,*,*,*,*,は,ハ,ワ\n",
            "まだ\t副詞,助詞類接続,*,*,*,*,まだ,マダ,マダ\n",
            "無い\t形容詞,自立,*,*,形容詞・アウオ段,基本形,無い,ナイ,ナイ\n",
            "。\t記号,句点,*,*,*,*,。,。,。\n",
            "\r\t記号,一般,*,*,*,*,*\n"
          ],
          "name": "stdout"
        }
      ]
    },
    {
      "cell_type": "code",
      "metadata": {
        "colab": {
          "base_uri": "https://localhost:8080/"
        },
        "id": "qhfKEIs5sMUy",
        "outputId": "0198d61a-5991-412e-80a8-567d2b46fe02"
      },
      "source": [
        "#30. 形態素解析結果の読み込み\n",
        "#MeCabの出力フォーマットは1語ずつ次のようになっている\n",
        "#'表層形\\t品詞,品詞細分類1,品詞細分類2,品詞細分類3,活用型,活用形,原形,読み,発音'\n",
        "#一文の文末には'EOS(\\n)'が表記される\n",
        "\n",
        "#目的は、各形態素を指定のキーでマッピング型に格納し\n",
        "#さらにそれを1文のリストとして表現すること\n",
        "\n",
        "#つまり、まず1文中の「各語の形態素をマッピングしたもの」を要素とする1文分のリストを作成\n",
        "morph_sentence = []\n",
        "#そしてその「1文分のリスト」を要素とする'neko.txt'全体のリストを作成する必要がある\n",
        "morph_text = []\n",
        "\n",
        "#上で作成した形態素解析結果ファイルを開く\n",
        "with open('neko.txt.mecab') as f:\n",
        "  #for文で1行ずつ読み込んでいく\n",
        "  for line in f:\n",
        "\n",
        "    #読み込んだ行が文末でなければ、形態素をマッピング型に格納する\n",
        "    if line != 'EOS\\n':\n",
        "\n",
        "      #まずsplit()メソッドを用いて'\\t'で表層形とそれ以外の部分に分ける\n",
        "      front = line.split('\\t')\n",
        "      #分けたときに2つに分かれたかどうかをlen()関数を用いて調べる\n",
        "      if len(front) != 2:\n",
        "        #分かれていなければcontinueでその行は無視して次の繰り返し処理へ移る\n",
        "        continue\n",
        "\n",
        "      else:\n",
        "        #2つに分かれていれば後半部分を','で区切っていく\n",
        "        back = front[1].split(',')\n",
        "\n",
        "        #そして取得する表層形、基本形、品詞、品詞細分類1をそれぞれ対応する箇所から抽出する\n",
        "        #抽出したものはマッピング型に格納\n",
        "        morph_word = {'surface': front[0], 'base': back[6], 'pos': back[0], 'pos1': back[1]}\n",
        "        #それを要素とするリスト(morph_sentence)にappend()メソッドで格納\n",
        "        morph_sentence.append(morph_word)\n",
        "\n",
        "    else:\n",
        "      #読み込んだ行が文末であれば、その文のリストを、それを要素とする文全体のリストに格納\n",
        "      morph_text.append(morph_sentence)\n",
        "      #1文のリストは次の文のために初期化しておく\n",
        "      morph_sentence = []\n",
        "\n",
        "#獲得したうちの1文の形態素を表示する\n",
        "for line in morph_text[2]:\n",
        "  print(line)"
      ],
      "execution_count": 5,
      "outputs": [
        {
          "output_type": "stream",
          "text": [
            "{'surface': '\\u3000', 'base': '\\u3000', 'pos': '記号', 'pos1': '空白'}\n",
            "{'surface': '吾輩', 'base': '吾輩', 'pos': '名詞', 'pos1': '代名詞'}\n",
            "{'surface': 'は', 'base': 'は', 'pos': '助詞', 'pos1': '係助詞'}\n",
            "{'surface': '猫', 'base': '猫', 'pos': '名詞', 'pos1': '一般'}\n",
            "{'surface': 'で', 'base': 'だ', 'pos': '助動詞', 'pos1': '*'}\n",
            "{'surface': 'ある', 'base': 'ある', 'pos': '助動詞', 'pos1': '*'}\n",
            "{'surface': '。', 'base': '。', 'pos': '記号', 'pos1': '句点'}\n",
            "{'surface': '', 'base': '*\\n', 'pos': '記号', 'pos1': '一般'}\n"
          ],
          "name": "stdout"
        }
      ]
    },
    {
      "cell_type": "code",
      "metadata": {
        "colab": {
          "base_uri": "https://localhost:8080/"
        },
        "id": "IAxpBOCxORYr",
        "outputId": "8b01a5ce-7cbc-4b95-f2d1-4f3ef8561cb1"
      },
      "source": [
        "#31. 動詞\n",
        "\n",
        "#動詞には重複するものがあるのでset型（重複を削除できる）に格納する\n",
        "verb_surface = set()\n",
        "\n",
        "#二重for文を用い30で作成したmorph_textに格納した各語の形態素マッピングを取得\n",
        "for sentence in morph_text:\n",
        "  for word in sentence:\n",
        "\n",
        "    #その語のキー'pos（品詞）'の値が動詞であるかどうかを判別\n",
        "    if word['pos'] == '動詞':\n",
        "      #動詞であれば、その語のキー'surface'の値を作成ておいたset型に格納する\n",
        "      verb_surface.add(word['surface'])\n",
        "\n",
        "#表示\n",
        "#取得した動詞をすべて表示するとかなりの行になってしまう\n",
        "#そのためここでは一部だけを表示する(最初の10件)\n",
        "#そのためにset型をlist型に直し、スライスを用いて表示する範囲を指定する\n",
        "tmp_list = list(verb_surface)\n",
        "for line in tmp_list[:10]:\n",
        "  print(line)"
      ],
      "execution_count": 6,
      "outputs": [
        {
          "output_type": "stream",
          "text": [
            "終\n",
            "おけ\n",
            "取り留め\n",
            "しでかす\n",
            "強い\n",
            "見よ\n",
            "書こ\n",
            "律する\n",
            "泣き\n",
            "ぶ\n"
          ],
          "name": "stdout"
        }
      ]
    },
    {
      "cell_type": "code",
      "metadata": {
        "colab": {
          "base_uri": "https://localhost:8080/"
        },
        "id": "6lZqtLspS59w",
        "outputId": "22874c2b-efc6-434f-a8d2-e2c717fa2591"
      },
      "source": [
        "#32. 動詞の基本形\n",
        "\n",
        "#やることは31とほぼ同じである\n",
        "#取得するものがキー'surface'の値からキー'base'の値に変わっただけである\n",
        "\n",
        "verb_base = set()\n",
        "for sentence in morph_text:\n",
        "  for word in sentence:\n",
        "    if word['pos'] == '動詞':\n",
        "      #動詞であれば、その語のキー'base'の値を作成ておいたset型に格納する\n",
        "      verb_base.add(word['base'])\n",
        "\n",
        "#表示(10件分)\n",
        "tmp_list = list(verb_base)\n",
        "for line in tmp_list[:10]:\n",
        "  print(line)"
      ],
      "execution_count": 7,
      "outputs": [
        {
          "output_type": "stream",
          "text": [
            "煙る\n",
            "融ける\n",
            "しでかす\n",
            "律する\n",
            "図る\n",
            "揃える\n",
            "聞きつける\n",
            "差出す\n",
            "つくろう\n",
            "挟まる\n"
          ],
          "name": "stdout"
        }
      ]
    },
    {
      "cell_type": "code",
      "metadata": {
        "colab": {
          "base_uri": "https://localhost:8080/"
        },
        "id": "bV-_sRsSUTba",
        "outputId": "a1c44870-1c3b-409f-ec61-05c514efd651"
      },
      "source": [
        "#33. 「AのB」\n",
        "#やることは31,32とは少し異なる\n",
        "\n",
        "#重複するものを削除するためのset型\n",
        "a_no_b = set()\n",
        "\n",
        "#語の形態素のリストを1文ずつ取得する\n",
        "for sentence in morph_text:\n",
        "\n",
        "  #1文の中で'名詞の名詞'という形を持つものを探す\n",
        "  #i番目の品詞が名詞、i+1番目の表層形が'の'、i+2番目の品詞が名詞となる場合を探す\n",
        "  #そのため範囲は（1文中の語の数－2）となる\n",
        "  for i in range(len(sentence)-2):\n",
        "    if sentence[i]['pos'] == '名詞' and sentence[i+1]['surface'] == 'の' and sentence[i+2]['pos'] == '名詞':\n",
        "\n",
        "      #見つかれば、それらの表層形を足し合わせ、事前に作成したset型に格納する\n",
        "      a_no_b.add(sentence[i]['surface'] + sentence[i+1]['surface'] + sentence[i+2]['surface'])\n",
        "\n",
        "#表示(10件分)\n",
        "tmp_list = list(a_no_b)\n",
        "for line in tmp_list[:10]:\n",
        "  print(line)"
      ],
      "execution_count": 8,
      "outputs": [
        {
          "output_type": "stream",
          "text": [
            "僕の失恋\n",
            "甕の中\n",
            "新年の御慶\n",
            "時代の朋友\n",
            "人間の名前\n",
            "上の参考\n",
            "一の条件\n",
            "不振の際\n",
            "Agnodiceの逸話\n",
            "骨の左右\n"
          ],
          "name": "stdout"
        }
      ]
    },
    {
      "cell_type": "code",
      "metadata": {
        "colab": {
          "base_uri": "https://localhost:8080/"
        },
        "id": "GqnQvL5gkb8o",
        "outputId": "84cae176-ac5c-44bd-8e3a-1685659d3348"
      },
      "source": [
        "#34. 名詞の連接\n",
        "\n",
        "#重複するものを削除するためのset型\n",
        "noun_combine = set()\n",
        "\n",
        "\n",
        "#まず、同じく語の形態素のリストを1文ずつ取得する\n",
        "for sentence in morph_text:\n",
        "  #連接の名詞を得るための変数\n",
        "  noun = ''\n",
        "  #連接した名詞の数を数えるための変数\n",
        "  noun_count = 0\n",
        "\n",
        "  #31の時と同じく1語ずつ見ていく\n",
        "  for word in sentence:\n",
        "\n",
        "    #その語のキー'pos'の値が名詞であるかどうかを判別\n",
        "    if word['pos'] == '名詞':\n",
        "\n",
        "      #その語の表層形をnounに足し合わせる\n",
        "      noun = noun + word['surface']\n",
        "      #足し合わせた分、回数を1つ増やす\n",
        "      noun_count += 1\n",
        "\n",
        "    else:\n",
        "      #キー'pos'の値が名詞でなかった場合\n",
        "      #さらにnoun_countが2以上であるかどうか判別\n",
        "      #noun_countが1ならばそれは連接していない(0はそもそも名詞が見つかっていない)\n",
        "      if noun_count >= 2:\n",
        "        #noun_countが2以上ならばそれが名詞の連接の最長一致であるので、set型に格納\n",
        "        noun_combine.add(noun)\n",
        "      \n",
        "      #次の探索に移行する前にnounとnoun_countは初期化しておく\n",
        "      noun = ''\n",
        "      noun_count = 0\n",
        "\n",
        "#表示(10件分)\n",
        "tmp_list = list(noun_combine)\n",
        "for line in tmp_list[:10]:\n",
        "  print(line)"
      ],
      "execution_count": 9,
      "outputs": [
        {
          "output_type": "stream",
          "text": [
            "曾呂崎\n",
            "禅坊主\n",
            "鴛鴦歌\n",
            "神経胃弱性\n",
            "奥さん意地張り\n",
            "泥棒陰士\n",
            "蛸壺峠\n",
            "五杯目\n",
            "住人多々良三平君\n",
            "宮殿下\n"
          ],
          "name": "stdout"
        }
      ]
    },
    {
      "cell_type": "code",
      "metadata": {
        "colab": {
          "base_uri": "https://localhost:8080/"
        },
        "id": "8KqLbs5Foiqg",
        "outputId": "bfc14563-96c7-4e90-a4c2-863abab27bcb"
      },
      "source": [
        "#35. 単語の出現頻度\n",
        "\n",
        "#単語の出現頻度をカウントするため、collectionsのCounterを導入する\n",
        "from collections import Counter\n",
        "\n",
        "#重複を削除しないようリスト型を用意（出現頻度をカウントするため）\n",
        "word_list = []\n",
        "#今までと同じく二重for文\n",
        "for sentence in morph_text:\n",
        "  for word in sentence:\n",
        "    #求めるのは単語であるので、キー'pos'の値が'記号'ではない場合を選択\n",
        "    if word['pos'] != '記号':\n",
        "      #表層形が異っても同じ単語の場合があるので、キーは'base'を選択\n",
        "      word_list.append(word['base'])\n",
        "\n",
        "#collections.Counter()にリストなどを渡すとCounterオブジェクトが生成される\n",
        "#Counterは辞書型dictのサブクラスで、キーに要素、値に出現回数という形のデータ\n",
        "#辞書型のメソッドも使えるが、ここではCounterのmost_common()メソッドを使用\n",
        "#most_common()メソッドは(要素, 出現回数)という形のタプルを出現回数順に並べたリストを返す\n",
        "word_count = Counter(word_list).most_common()\n",
        "\n",
        "#表示(10件分)\n",
        "for line in word_count[:10]:\n",
        "  print(line)"
      ],
      "execution_count": 10,
      "outputs": [
        {
          "output_type": "stream",
          "text": [
            "('の', 9194)\n",
            "('て', 6848)\n",
            "('は', 6420)\n",
            "('に', 6243)\n",
            "('を', 6071)\n",
            "('だ', 5972)\n",
            "('と', 5508)\n",
            "('が', 5337)\n",
            "('た', 4267)\n",
            "('する', 3657)\n"
          ],
          "name": "stdout"
        }
      ]
    },
    {
      "cell_type": "code",
      "metadata": {
        "id": "k9wNz8IX7mJF",
        "colab": {
          "base_uri": "https://localhost:8080/"
        },
        "outputId": "61ca5b68-f3f4-42bc-c81a-a895d6550dfa"
      },
      "source": [
        "#準備\n",
        "#36からはmatplotlibを使用するが、matplotlibで日本語を表示させるため\n",
        "!pip install japanize_matplotlib"
      ],
      "execution_count": 11,
      "outputs": [
        {
          "output_type": "stream",
          "text": [
            "Collecting japanize_matplotlib\n",
            "\u001b[?25l  Downloading https://files.pythonhosted.org/packages/aa/85/08a4b7fe8987582d99d9bb7ad0ff1ec75439359a7f9690a0dbf2dbf98b15/japanize-matplotlib-1.1.3.tar.gz (4.1MB)\n",
            "\u001b[K     |████████████████████████████████| 4.1MB 4.3MB/s \n",
            "\u001b[?25hRequirement already satisfied: matplotlib in /usr/local/lib/python3.7/dist-packages (from japanize_matplotlib) (3.2.2)\n",
            "Requirement already satisfied: kiwisolver>=1.0.1 in /usr/local/lib/python3.7/dist-packages (from matplotlib->japanize_matplotlib) (1.3.1)\n",
            "Requirement already satisfied: pyparsing!=2.0.4,!=2.1.2,!=2.1.6,>=2.0.1 in /usr/local/lib/python3.7/dist-packages (from matplotlib->japanize_matplotlib) (2.4.7)\n",
            "Requirement already satisfied: numpy>=1.11 in /usr/local/lib/python3.7/dist-packages (from matplotlib->japanize_matplotlib) (1.19.5)\n",
            "Requirement already satisfied: cycler>=0.10 in /usr/local/lib/python3.7/dist-packages (from matplotlib->japanize_matplotlib) (0.10.0)\n",
            "Requirement already satisfied: python-dateutil>=2.1 in /usr/local/lib/python3.7/dist-packages (from matplotlib->japanize_matplotlib) (2.8.1)\n",
            "Requirement already satisfied: six in /usr/local/lib/python3.7/dist-packages (from cycler>=0.10->matplotlib->japanize_matplotlib) (1.15.0)\n",
            "Building wheels for collected packages: japanize-matplotlib\n",
            "  Building wheel for japanize-matplotlib (setup.py) ... \u001b[?25l\u001b[?25hdone\n",
            "  Created wheel for japanize-matplotlib: filename=japanize_matplotlib-1.1.3-cp37-none-any.whl size=4120276 sha256=8af536460507f26ec03245be0e609684b3a9c01947186a4e2bd4f023e874de5a\n",
            "  Stored in directory: /root/.cache/pip/wheels/b7/d9/a2/f907d50b32a2d2008ce5d691d30fb6569c2c93eefcfde55202\n",
            "Successfully built japanize-matplotlib\n",
            "Installing collected packages: japanize-matplotlib\n",
            "Successfully installed japanize-matplotlib-1.1.3\n"
          ],
          "name": "stdout"
        }
      ]
    },
    {
      "cell_type": "code",
      "metadata": {
        "id": "I77G7vuHgu9k",
        "colab": {
          "base_uri": "https://localhost:8080/",
          "height": 264
        },
        "outputId": "d82c3c0a-a28d-4fe6-8f90-edaf0e16e182"
      },
      "source": [
        "#36. 頻度上位10語\n",
        "#matplotlibと日本語対応のモジュールをインポートする\n",
        "import matplotlib.pyplot as plt\n",
        "import japanize_matplotlib\n",
        "\n",
        "#グラフで使用するために上位10語とその出現頻度をそれぞれリストに格納する\n",
        "word_ten = []\n",
        "frequency = []\n",
        "#上位10語を求めるのは35で作成したword_countを再利用する\n",
        "for line in word_count[:10]:\n",
        "  word_ten.append(line[0])\n",
        "  frequency.append(line[1])\n",
        "\n",
        "#matplotlibのbar()メソッドで棒グラフが作成できる\n",
        "#1つ目の引数がx軸、2つ目がy軸、widthで棒の幅を指定できる\n",
        "plt.bar(word_ten, frequency, width=0.5)\n",
        "#show()メソッドで作成したグラフを表示\n",
        "plt.show()"
      ],
      "execution_count": 12,
      "outputs": [
        {
          "output_type": "display_data",
          "data": {
            "image/png": "[encoded data removed]",
            "text/plain": [
              "<Figure size 432x288 with 1 Axes>"
            ]
          },
          "metadata": {
            "tags": [],
            "needs_background": "light"
          }
        }
      ]
    },
    {
      "cell_type": "code",
      "metadata": {
        "colab": {
          "base_uri": "https://localhost:8080/",
          "height": 264
        },
        "id": "4ai-rOBbDQNF",
        "outputId": "2a6ffc34-1770-49bf-d90b-05b13821fb61"
      },
      "source": [
        "#37. 「猫」と共起頻度の高い上位10語\n",
        "#共起範囲を「猫」が出現する1文中とする\n",
        "\n",
        "#「猫」と共起する語を格納するリスト\n",
        "cat_list = []\n",
        "#今までと同じく二重for文\n",
        "for sentence in morph_text:\n",
        "  #各単語のキー'base'の値を要素とするリストを作成\n",
        "  #共起範囲を1文としているので、1文ごとに初期化する\n",
        "  tmp = []\n",
        "  for word in sentence:\n",
        "    #求めるのは単語であるので、キー'pos'の値が'記号'ではない場合を選択\n",
        "    if word['pos'] != '記号':\n",
        "      #上で作成したリストにキー'base'の値を格納\n",
        "      tmp.append(word['base'])\n",
        "\n",
        "  #格納したリスト中に「猫」が出現していた場合そのリストをcat_listに格納する（共起）\n",
        "  #extend()メソッドではリストやタプルを結合できる\n",
        "  if '猫' in tmp:\n",
        "    cat_list.extend(tmp)\n",
        "\n",
        "#共起頻度の高いものは35と同じくCounterとmost_common()メソッドを用いて求める\n",
        "\n",
        "#ただし「猫」という単語の出現回数はカウントしないようにする\n",
        "#そこで一度辞書型に格納し、pop()メソッドを用いて「猫」の要素を削除する\n",
        "#（タプルのリスト型のまま「猫」の要素を削除する方法がわからなかったため）\n",
        "tmp_dict = dict(Counter(cat_list).most_common())\n",
        "tmp_dict.pop('猫')\n",
        "\n",
        "#グラフに表示するためitems()メソッドでキーと値を取り出し、タプルのリスト型に再度直す\n",
        "#辞書型で先頭から10件目までを取り出すという方法がわからなかったため\n",
        "cat_count = list(tmp_dict.items()) \n",
        "\n",
        "#グラフへの表示は36と同じ手順\n",
        "cat_ten = []\n",
        "cat_frequency = []\n",
        "for line in cat_count[:10]:\n",
        "  cat_ten.append(line[0])\n",
        "  cat_frequency.append(line[1])\n",
        "\n",
        "plt.bar(cat_ten, cat_frequency, width=0.5)\n",
        "plt.show()"
      ],
      "execution_count": 13,
      "outputs": [
        {
          "output_type": "display_data",
          "data": {
            "image/png": "[encoded data removed]",
            "text/plain": [
              "<Figure size 432x288 with 1 Axes>"
            ]
          },
          "metadata": {
            "tags": [],
            "needs_background": "light"
          }
        }
      ]
    },
    {
      "cell_type": "code",
      "metadata": {
        "colab": {
          "base_uri": "https://localhost:8080/",
          "height": 277
        },
        "id": "heGDMoQnoQyk",
        "outputId": "2121706c-ca46-46f0-9e75-4c80d1a52ffe"
      },
      "source": [
        "#38. ヒストグラム\n",
        "#単語の出現頻度は35で求めたword_countを用いる\n",
        "#出現頻度だけを取り出したいので、辞書型に直す\n",
        "word_dict = dict(word_count)\n",
        "\n",
        "#hist()メソッドを用いるとヒストグラムが描ける\n",
        "#1つ目の引数がx軸の値（出現頻度）、binsでヒストグラムのビンの数を選択できる\n",
        "plt.hist(word_dict.values(), bins=100)\n",
        "#label()メソッドでx軸、y軸のラベルを設定\n",
        "plt.xlabel('出現頻度')\n",
        "plt.ylabel('種類数')\n",
        "#グラフの表示\n",
        "plt.show()"
      ],
      "execution_count": 14,
      "outputs": [
        {
          "output_type": "display_data",
          "data": {
            "image/png": "[encoded data removed]",
            "text/plain": [
              "<Figure size 432x288 with 1 Axes>"
            ]
          },
          "metadata": {
            "tags": [],
            "needs_background": "light"
          }
        }
      ]
    },
    {
      "cell_type": "code",
      "metadata": {
        "colab": {
          "base_uri": "https://localhost:8080/",
          "height": 283
        },
        "id": "KGIhHtQzwhI9",
        "outputId": "3b251ee8-abfe-4822-a3cd-2e3641758f60"
      },
      "source": [
        "#39. Zipfの法則\n",
        "#単語の出現頻度は同じくword_countを用いる\n",
        "#リストはそれぞれ出現頻度順位と出現頻度を格納する\n",
        "word_rank = []\n",
        "word_frequency = []\n",
        "#出現頻度順位のための変数\n",
        "rank = 1\n",
        "#word_countを1行（1語）ずつ読み込む\n",
        "for line in word_count:\n",
        "  #その語の出現頻度順位と出現頻度をそれぞれ格納する\n",
        "  word_rank.append(rank)\n",
        "  word_frequency.append(line[1])\n",
        "\n",
        "  #rankを1増やしておく\n",
        "  rank += 1\n",
        "\n",
        "#グラフは散布図でプロットするのでscatter()メソッドを用いる\n",
        "plt.scatter(word_rank, word_frequency)\n",
        "#x,yscale()メソッドを用いてグラフを両対数グラフにする\n",
        "plt.xscale('log')\n",
        "plt.yscale('log')\n",
        "#x軸、y軸のラベルはそれぞれ出現頻度順位、出現頻度\n",
        "plt.xlabel('出現頻度順位')\n",
        "plt.ylabel('出現頻度')\n",
        "plt.show()"
      ],
      "execution_count": 15,
      "outputs": [
        {
          "output_type": "display_data",
          "data": {
            "image/png": "[encoded data removed]",
            "text/plain": [
              "<Figure size 432x288 with 1 Axes>"
            ]
          },
          "metadata": {
            "tags": [],
            "needs_background": "light"
          }
        }
      ]
    }
  ]
}