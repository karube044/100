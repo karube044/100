{
  "nbformat": 4,
  "nbformat_minor": 0,
  "metadata": {
    "colab": {
      "name": "６.ipynb",
      "provenance": [],
      "collapsed_sections": []
    },
    "kernelspec": {
      "name": "python3",
      "display_name": "Python 3"
    },
    "language_info": {
      "name": "python"
    }
  },
  "cells": [
    {
      "cell_type": "code",
      "metadata": {
        "id": "Cjq0gJk_IJ32"
      },
      "source": [
        "# 準備\n",
        "# URL先からファイルのインストール\n",
        "!wget https://archive.ics.uci.edu/ml/machine-learning-databases/00359/NewsAggregatorDataset.zip"
      ],
      "execution_count": null,
      "outputs": []
    },
    {
      "cell_type": "code",
      "metadata": {
        "id": "KBTY05dVK7xs"
      },
      "source": [
        "# 準備\n",
        "# zipファイルの解凍\n",
        "!unzip NewsAggregatorDataset.zip"
      ],
      "execution_count": null,
      "outputs": []
    },
    {
      "cell_type": "code",
      "metadata": {
        "colab": {
          "base_uri": "https://localhost:8080/"
        },
        "id": "gYwqpRN0K70I",
        "outputId": "b5144f29-c9aa-41f4-d97e-21419700ce79"
      },
      "source": [
        "# 50. データの入手・整形\n",
        "# csvファイルを扱うのでpandasをインポートする\n",
        "import pandas as pd\n",
        "# データ分割を行うためにscikit-learnのtrain_test_splitをインポートする\n",
        "from sklearn.model_selection import train_test_split\n",
        "\n",
        "# データを読込む\n",
        "# haderは無し,区切り文字は'\\t'\n",
        "# 取得したreadme.txtに書いてあるものをnamesとする\n",
        "df = pd.read_csv('./newsCorpora.csv', header=None, sep='\\t', names=['ID', 'TITLE', 'URL', 'PUBLISHER', 'CATEGORY', 'STORY', 'HOSTNAME', 'TIMESTAMP'])\n",
        "\n",
        "# データを抽出する\n",
        "# pandasのisinを用いてpublisherが\"Reuters”, “Huffington Post”, “Businessweek”, “Contactmusic.com”, “Daily Mail”の事例（記事）のみを選択し\n",
        "# pandasのlocでtitle,categoryの項目のみをを抽出する（条件がカテゴリ名と記事見出しであるので）\n",
        "df = df.loc[df['PUBLISHER'].isin(['Reuters', 'Huffington Post', 'Businessweek', 'Contactmusic.com', 'Daily Mail']), ['TITLE', 'CATEGORY']]\n",
        "\n",
        "# データを分割する\n",
        "# train_test_splitを用いる\n",
        "# まず8:2に分割するのでtestsize=0.2にしておく(trainが8でvaild_testが2)\n",
        "# デフォルトでシャッフルされるようになっている。またシード値はrandom_stateで固定しておく(毎回同じようにシャッフルされるように)\n",
        "# 学習のためにカテゴリの事例数に偏りがないようにstratifyでcategoryを指定する# \n",
        "train, valid_test = train_test_split(df, test_size=0.2, random_state=0, stratify=df['CATEGORY'])\n",
        "# さらにvalid_testを1：1で分割してそれぞれ10％ずつの検証データと評価データにする\n",
        "valid, test = train_test_split(valid_test, test_size=0.5, random_state=0, stratify=valid_test['CATEGORY'])\n",
        "\n",
        "# データを保存する\n",
        "# 今回txtファイルとして保存する必要があるが、pandasはto_txtなどのオプションがないようなので、前回と同じくto_csvを用います(すみません)\n",
        "# タブ区切り、ヘッダーはあるので、indexのみfalse\n",
        "train.to_csv('train.txt', sep='\\t', index=False)\n",
        "valid.to_csv('valid.txt', sep='\\t', index=False)\n",
        "test.to_csv('test.txt', sep='\\t', index=False)\n",
        "\n",
        "# 事例数の確認\n",
        "# pandasのvalue_counts()で要素の値をindex、出現個数をdataとして返す\n",
        "print('学習データ\\n', train['CATEGORY'].value_counts())\n",
        "print('検証データ\\n', valid['CATEGORY'].value_counts())\n",
        "print('評価データ\\n', test['CATEGORY'].value_counts())"
      ],
      "execution_count": 5,
      "outputs": [
        {
          "output_type": "stream",
          "text": [
            "学習データ\n",
            " b    4502\n",
            "e    4223\n",
            "t    1219\n",
            "m     728\n",
            "Name: CATEGORY, dtype: int64\n",
            "検証データ\n",
            " b    562\n",
            "e    528\n",
            "t    153\n",
            "m     91\n",
            "Name: CATEGORY, dtype: int64\n",
            "評価データ\n",
            " b    563\n",
            "e    528\n",
            "t    152\n",
            "m     91\n",
            "Name: CATEGORY, dtype: int64\n"
          ],
          "name": "stdout"
        }
      ]
    },
    {
      "cell_type": "code",
      "metadata": {
        "colab": {
          "base_uri": "https://localhost:8080/"
        },
        "id": "wrgA5Gat6WE1",
        "outputId": "5dc3e420-e850-4c01-800c-66f71821a509"
      },
      "source": [
        "# 51. 特徴量抽出\n",
        "# カテゴリごとに分類することが目標であるカテゴリ分類問題のため\n",
        "# 特徴量は記事見出しの特徴的な単語とする\n",
        "# TF-IDFで重み付けをして特徴量の抽出を行う\n",
        "\n",
        "# sklearnのTfidfVectorizerを用いてTF-IDFを実装する\n",
        "from sklearn.feature_extraction.text import TfidfVectorizer\n",
        "# 記号などをまとめてstring.punctuationで扱うのでstringをインポート\n",
        "import string\n",
        "\n",
        "# TF-IDFの実装のため前処理の関数\n",
        "def adjust(text):\n",
        "  # 文の整理を行う\n",
        "  # translate()を用いて記号(string.punctuation)を削除\n",
        "  # maketrans()の第三引数に与えることで、その単語をNoneに置換する\n",
        "  text = text.translate(str.maketrans('', '', string.punctuation))\n",
        "  # lower()ですべてを小文字に\n",
        "  text = text.lower() \n",
        "  return text\n",
        "\n",
        "# TF-IDFを訓練、検証、テストセットごとに行うとそれぞれ単語の数(ベクトルの次元)が異なってしまう\n",
        "# したがって、再度データを縦に連結しなおす\n",
        "redf = pd.concat([train, valid, test], axis=0)\n",
        "# 連結しなおしたものにreset_indexでindexを振りなおす(後でもう一度分割するため)\n",
        "redf.reset_index(drop=True, inplace=True)  \n",
        "\n",
        "# 前処理を施す\n",
        "# map()とlambdaを用いて関数を適用する\n",
        "redf['TITLE'] = redf['TITLE'].map(lambda x: adjust(x))\n",
        "\n",
        "# TF-IDFの実装\n",
        "# TfidfVectorizerのパラメータでTF-IDFの設定を変更可能\n",
        "# min_dfで単語の使用されている文書割合(0~1)または単語の使用されている文書数(整数)以下の単語を排除する\n",
        "# ngram_rangeでn-gramの範囲を指定する(カテゴリ分類の場合には1-gram、2-gramを用いることが有効なので今回は1,2)\n",
        "tfidf = TfidfVectorizer(min_df=10, ngram_range=(1, 2))  \n",
        "\n",
        "# 上で作ったredf['TITLE']にtfidfを適用\n",
        "dfx = tfidf.fit_transform(redf['TITLE'])\n",
        "\n",
        "# 結果をデータフレームに変更columnsはn-gramの要素\n",
        "dfx = pd.DataFrame(dfx.toarray(), columns=tfidf.get_feature_names())\n",
        "\n",
        "# データフレームを訓練、検証、テストに再度分割する\n",
        "# 50で作成したセットの長さを利用する\n",
        "# まず訓練、検証セットとテストセットに分ける\n",
        "df_train_valid = dfx[:len(train) + len(valid)]\n",
        "df_test = dfx[len(train) + len(valid):]\n",
        "# 訓練セット、検証セットに分ける\n",
        "df_train = df_train_valid[:len(train)]\n",
        "df_valid = df_train_valid[len(train):]\n",
        "\n",
        "# それぞれxxx.feature.txtに保存する\n",
        "df_train.to_csv('train.feature.txt', sep='\\t', index=False)\n",
        "df_valid.to_csv('valid.feature.txt', sep='\\t', index=False)\n",
        "df_test.to_csv('test.feature.txt', sep='\\t', index=False)\n",
        "\n",
        "# 確認用に訓練とテストの特徴抽出を表示\n",
        "print(df_train)\n",
        "print(df_test)\n"
      ],
      "execution_count": 6,
      "outputs": [
        {
          "output_type": "stream",
          "text": [
            "        10  10 billion  100  10year   11  ...  yuan  zac  zac efron  zendaya  zone\n",
            "0      0.0         0.0  0.0     0.0  0.0  ...   0.0  0.0        0.0      0.0   0.0\n",
            "1      0.0         0.0  0.0     0.0  0.0  ...   0.0  0.0        0.0      0.0   0.0\n",
            "2      0.0         0.0  0.0     0.0  0.0  ...   0.0  0.0        0.0      0.0   0.0\n",
            "3      0.0         0.0  0.0     0.0  0.0  ...   0.0  0.0        0.0      0.0   0.0\n",
            "4      0.0         0.0  0.0     0.0  0.0  ...   0.0  0.0        0.0      0.0   0.0\n",
            "...    ...         ...  ...     ...  ...  ...   ...  ...        ...      ...   ...\n",
            "10667  0.0         0.0  0.0     0.0  0.0  ...   0.0  0.0        0.0      0.0   0.0\n",
            "10668  0.0         0.0  0.0     0.0  0.0  ...   0.0  0.0        0.0      0.0   0.0\n",
            "10669  0.0         0.0  0.0     0.0  0.0  ...   0.0  0.0        0.0      0.0   0.0\n",
            "10670  0.0         0.0  0.0     0.0  0.0  ...   0.0  0.0        0.0      0.0   0.0\n",
            "10671  0.0         0.0  0.0     0.0  0.0  ...   0.0  0.0        0.0      0.0   0.0\n",
            "\n",
            "[10672 rows x 3051 columns]\n",
            "        10  10 billion  100  10year   11  ...  yuan  zac  zac efron  zendaya  zone\n",
            "12006  0.0         0.0  0.0     0.0  0.0  ...   0.0  0.0        0.0      0.0   0.0\n",
            "12007  0.0         0.0  0.0     0.0  0.0  ...   0.0  0.0        0.0      0.0   0.0\n",
            "12008  0.0         0.0  0.0     0.0  0.0  ...   0.0  0.0        0.0      0.0   0.0\n",
            "12009  0.0         0.0  0.0     0.0  0.0  ...   0.0  0.0        0.0      0.0   0.0\n",
            "12010  0.0         0.0  0.0     0.0  0.0  ...   0.0  0.0        0.0      0.0   0.0\n",
            "...    ...         ...  ...     ...  ...  ...   ...  ...        ...      ...   ...\n",
            "13335  0.0         0.0  0.0     0.0  0.0  ...   0.0  0.0        0.0      0.0   0.0\n",
            "13336  0.0         0.0  0.0     0.0  0.0  ...   0.0  0.0        0.0      0.0   0.0\n",
            "13337  0.0         0.0  0.0     0.0  0.0  ...   0.0  0.0        0.0      0.0   0.0\n",
            "13338  0.0         0.0  0.0     0.0  0.0  ...   0.0  0.0        0.0      0.0   0.0\n",
            "13339  0.0         0.0  0.0     0.0  0.0  ...   0.0  0.0        0.0      0.0   0.0\n",
            "\n",
            "[1334 rows x 3051 columns]\n"
          ],
          "name": "stdout"
        }
      ]
    },
    {
      "cell_type": "code",
      "metadata": {
        "colab": {
          "base_uri": "https://localhost:8080/"
        },
        "id": "maAEOCnOK79T",
        "outputId": "440e891e-88d9-4cc6-d99d-79d76d21eb81"
      },
      "source": [
        "# 52. 学習\n",
        "# sklearnのLogisticRegressionを用いてロジスティック回帰モデルの学習を行う\n",
        "from sklearn.linear_model import LogisticRegression\n",
        "\n",
        "# モデルの学習\n",
        "# LogisticRegressionでモデルのインスタンスの生成\n",
        "# シード値を指定して、モデルの再現性を担保しておく\n",
        "lg = LogisticRegression()\n",
        "# fit()メソッドに特徴量とターゲットの訓練データ（今回はtrain['CATEGORY'])を与えて学習させる\n",
        "lg.fit(df_train, train['CATEGORY'])"
      ],
      "execution_count": 7,
      "outputs": [
        {
          "output_type": "stream",
          "text": [
            "/usr/local/lib/python3.7/dist-packages/sklearn/linear_model/_logistic.py:940: ConvergenceWarning: lbfgs failed to converge (status=1):\n",
            "STOP: TOTAL NO. of ITERATIONS REACHED LIMIT.\n",
            "\n",
            "Increase the number of iterations (max_iter) or scale the data as shown in:\n",
            "    https://scikit-learn.org/stable/modules/preprocessing.html\n",
            "Please also refer to the documentation for alternative solver options:\n",
            "    https://scikit-learn.org/stable/modules/linear_model.html#logistic-regression\n",
            "  extra_warning_msg=_LOGISTIC_SOLVER_CONVERGENCE_MSG)\n"
          ],
          "name": "stderr"
        },
        {
          "output_type": "execute_result",
          "data": {
            "text/plain": [
              "LogisticRegression(C=1.0, class_weight=None, dual=False, fit_intercept=True,\n",
              "                   intercept_scaling=1, l1_ratio=None, max_iter=100,\n",
              "                   multi_class='auto', n_jobs=None, penalty='l2',\n",
              "                   random_state=None, solver='lbfgs', tol=0.0001, verbose=0,\n",
              "                   warm_start=False)"
            ]
          },
          "metadata": {
            "tags": []
          },
          "execution_count": 7
        }
      ]
    },
    {
      "cell_type": "code",
      "metadata": {
        "colab": {
          "base_uri": "https://localhost:8080/"
        },
        "id": "I-7VqxIwK7_q",
        "outputId": "e8eb9905-2d32-4e38-aa77-f195963c7a21"
      },
      "source": [
        "# 53. 予測\n",
        "import numpy as np\n",
        "\n",
        "# 予測確率とカテゴリを計算するための関数\n",
        "# 引数は上で作成したロジスティック関数によるモデルと、入力データ\n",
        "def pre_score(lg, x):\n",
        "  # LogisticRegressionのpredict_proba()で予測確率を、predict()で予測ラベルを返す\n",
        "  # 予測確率をのうち最大のものをとるためにnumpy.amax()を使用する.axis=1で範囲を配列の横に指定\n",
        "  return [np.amax(lg.predict_proba(x), axis=1), lg.predict(x)]\n",
        "\n",
        "# 54で訓練とテストのデータを用いるので、それらの予測をしておく\n",
        "train_pred = pre_score(lg, df_train)\n",
        "test_pred = pre_score(lg, df_test)\n",
        "# 確認\n",
        "print(train_pred)\n",
        "print(test_pred)"
      ],
      "execution_count": 8,
      "outputs": [
        {
          "output_type": "stream",
          "text": [
            "[array([0.4786736 , 0.92427677, 0.62277342, ..., 0.89877999, 0.96177121,\n",
            "       0.65314832]), array(['b', 'b', 'e', ..., 'b', 'b', 'e'], dtype=object)]\n",
            "[array([0.84861374, 0.67782683, 0.98066116, ..., 0.38783556, 0.80322441,\n",
            "       0.93488536]), array(['e', 'b', 'e', ..., 't', 't', 'b'], dtype=object)]\n"
          ],
          "name": "stdout"
        }
      ]
    },
    {
      "cell_type": "code",
      "metadata": {
        "colab": {
          "base_uri": "https://localhost:8080/"
        },
        "id": "Dwjk3MXuK8Ez",
        "outputId": "21fa544b-517d-4cdc-8089-38720313445e"
      },
      "source": [
        "# 54. 正解率の計測\n",
        "# sklearnのaccuracy_scoreを用いて正解率を求める\n",
        "# 予測ラベルは53で作成したものを用いる\n",
        "from sklearn.metrics import accuracy_score\n",
        "print('学習データ：',accuracy_score(train['CATEGORY'], train_pred[1]))\n",
        "print('評価データ：', accuracy_score(test['CATEGORY'], test_pred[1]))"
      ],
      "execution_count": 9,
      "outputs": [
        {
          "output_type": "stream",
          "text": [
            "学習データ： 0.9236319340329835\n",
            "評価データ： 0.8740629685157422\n"
          ],
          "name": "stdout"
        }
      ]
    },
    {
      "cell_type": "code",
      "metadata": {
        "colab": {
          "base_uri": "https://localhost:8080/"
        },
        "id": "PuL28E3zK8HX",
        "outputId": "271ec238-c90f-4875-b64c-92e7eca64d3a"
      },
      "source": [
        "# 55. 混同行列の作成\n",
        "# sklearnのconfusion_matrixを用いて混合行列を作成する\n",
        "from sklearn.metrics import confusion_matrix\n",
        "\n",
        "# 混同行列のラベル順を指定するためのリストを作成(50で確認したものと同じ順にする)\n",
        "label_name = ['b','e','t','m']\n",
        "# columns(予測ラベル),index（正解ラベル)用のラベルを作成する\n",
        "columns_label = ['pred_b','pred_e','pred_t','pred_m']\n",
        "index_label = ['act_b','act_e','act_t','act_m']\n",
        "\n",
        "\n",
        "print('学習データ')\n",
        "# confusion_matrixで混合行列を作成し、それをデータフレームに直す\n",
        "train_cm = confusion_matrix(train['CATEGORY'], train_pred[1], labels = label_name)\n",
        "print(pd.DataFrame(train_cm, columns=columns_label, index=index_label))\n",
        "print('\\n評価データ')\n",
        "test_cm = confusion_matrix(test['CATEGORY'], test_pred[1], labels=label_name)\n",
        "print(pd.DataFrame(test_cm, columns=columns_label, index=index_label))"
      ],
      "execution_count": 10,
      "outputs": [
        {
          "output_type": "stream",
          "text": [
            "学習データ\n",
            "       pred_b  pred_e  pred_t  pred_m\n",
            "act_b    4362      86      45       9\n",
            "act_e      45    4165      10       3\n",
            "act_t     222     144     847       6\n",
            "act_m     102     126      17     483\n",
            "\n",
            "評価データ\n",
            "       pred_b  pred_e  pred_t  pred_m\n",
            "act_b     527      25      10       1\n",
            "act_e      14     510       1       3\n",
            "act_t      46      22      82       2\n",
            "act_m      20      20       4      47\n"
          ],
          "name": "stdout"
        }
      ]
    },
    {
      "cell_type": "code",
      "metadata": {
        "id": "SYyRUR-zK8Jl",
        "colab": {
          "base_uri": "https://localhost:8080/"
        },
        "outputId": "b5827fc4-ef73-42e5-b1bd-480a4208b6b7"
      },
      "source": [
        "# 56. 適合率，再現率，F1スコアの計測\n",
        "# 同じくsklearnからインポートする\n",
        "from sklearn.metrics import precision_score, recall_score, f1_score\n",
        "\n",
        "# 計測のための関数\n",
        "def measure(y_true, y_pred):\n",
        "  # precision_scoreで適合率を求める\n",
        "  # average=Noneでそれぞれのクラスごとに値を求められる。クラスの順番は55で作成したラベルの順。\n",
        "  # これはnumpy.ndarrayの型で返される\n",
        "  precision = precision_score(y_true, y_pred, average=None, labels=label_name)  \n",
        "  # averageをmicroにしておくとマイクロ平均、macroにするとマクロ平均が求められる\n",
        "  # 後でデータフレームに直すのでnp.appendで結合しておく\n",
        "  precision = np.append(precision, precision_score(y_true, y_pred, average='micro'))  \n",
        "  precision = np.append(precision, precision_score(y_true, y_pred, average='macro'))  # 末尾にマクロ平均を追加\n",
        "\n",
        "  # recall_scoreで再現率を同じく求める\n",
        "  recall = recall_score(y_true, y_pred, average=None, labels=label_name)\n",
        "  recall = np.append(recall, recall_score(y_true, y_pred, average='micro'))\n",
        "  recall = np.append(recall, recall_score(y_true, y_pred, average='macro'))\n",
        "\n",
        "  # f1_scoreでF1スコアも同じく求める\n",
        "  f1 = f1_score(y_true, y_pred, average=None, labels=label_name)\n",
        "  f1 = np.append(f1, f1_score(y_true, y_pred, average='micro'))\n",
        "  f1 = np.append(f1, f1_score(y_true, y_pred, average='macro'))\n",
        "\n",
        "  # データフレームに直す\n",
        "  scores = pd.DataFrame({'適合率': precision, '再現率': recall, 'F1スコア': f1},\n",
        "                        index=['b', 'e', 't', 'm', 'マイクロ平均', 'マクロ平均'])\n",
        "  # データフレームを返す\n",
        "  return scores\n",
        "\n",
        "# 確認\n",
        "print(measure(test['CATEGORY'], test_pred[1]))"
      ],
      "execution_count": 11,
      "outputs": [
        {
          "output_type": "stream",
          "text": [
            "             適合率       再現率     F1スコア\n",
            "b       0.868204  0.936057  0.900855\n",
            "e       0.883882  0.965909  0.923077\n",
            "t       0.845361  0.539474  0.658635\n",
            "m       0.886792  0.516484  0.652778\n",
            "マイクロ平均  0.874063  0.874063  0.874063\n",
            "マクロ平均   0.871060  0.739481  0.783836\n"
          ],
          "name": "stdout"
        }
      ]
    },
    {
      "cell_type": "code",
      "metadata": {
        "colab": {
          "base_uri": "https://localhost:8080/"
        },
        "id": "AyIkH_knK8Ov",
        "outputId": "901193e9-4d31-4e52-a84a-332cb3aaaa50"
      },
      "source": [
        "# 57. 特徴量の重みの確認\n",
        "\n",
        "# まず特徴量の名前（1-gram,2-gram単語名)を取得する\n",
        "features_label = df_train.columns.values\n",
        "# top10の順位付けのためのインデックス\n",
        "number_label = [i for i in range(1, 11)]\n",
        "\n",
        "# それぞれのクラスごとに特徴量を確認する\n",
        "# クラスはclasses_ . 特徴量の値はcoef_で取得できる(zipでまとめて取得)\n",
        "for c, coef in zip(lg.classes_, lg.coef_):\n",
        "\n",
        "  # top10の取得(データフレームに直す)\n",
        "  # np.argsortで要素の値順に並び替えたインデックスのndarrayを返す([::-1]で降順)\n",
        "  # そこからトップ10までのインデックスに対応する特徴量のラベルを取得する\n",
        "  top10 = pd.DataFrame(features_label[np.argsort(coef)[::-1][:10]], columns=['top10'], index=number_label)\n",
        "  # worst10も同じように\n",
        "  worst10 = pd.DataFrame(features_label[np.argsort(coef)[:10]], columns=['worst10'], index=number_label)\n",
        "\n",
        "  # 表示\n",
        "  print('クラス:', c)\n",
        "  # top10とworst10をpd.concat()で結合する。横に連結するのでaxis=1\n",
        "  print(pd.concat([top10, worst10], axis=1),'\\n')"
      ],
      "execution_count": 12,
      "outputs": [
        {
          "output_type": "stream",
          "text": [
            "クラス: b\n",
            "        top10    worst10\n",
            "1         fed      video\n",
            "2        bank        the\n",
            "3         ecb        and\n",
            "4     ukraine        her\n",
            "5      stocks      ebola\n",
            "6         oil       this\n",
            "7        euro  microsoft\n",
            "8   obamacare   facebook\n",
            "9       china    tmobile\n",
            "10     profit      heart \n",
            "\n",
            "クラス: e\n",
            "         top10 worst10\n",
            "1        chris  update\n",
            "2   kardashian      us\n",
            "3          her  google\n",
            "4        movie   study\n",
            "5         film     ceo\n",
            "6          kim   china\n",
            "7      wedding    says\n",
            "8         paul      gm\n",
            "9          she     may\n",
            "10        star    data \n",
            "\n",
            "クラス: m\n",
            "      top10   worst10\n",
            "1     ebola        gm\n",
            "2     study      deal\n",
            "3    cancer      bank\n",
            "4      mers       ceo\n",
            "5       fda  facebook\n",
            "6      drug     sales\n",
            "7   medical   climate\n",
            "8    health     apple\n",
            "9     cases      cars\n",
            "10    heart   twitter \n",
            "\n",
            "クラス: t\n",
            "         top10  worst10\n",
            "1       google   shares\n",
            "2     facebook   cancer\n",
            "3        apple      fed\n",
            "4      climate   stocks\n",
            "5    microsoft      her\n",
            "6      tmobile     drug\n",
            "7           gm  ukraine\n",
            "8          fcc      his\n",
            "9         moon  percent\n",
            "10  heartbleed    young \n",
            "\n"
          ],
          "name": "stdout"
        }
      ]
    },
    {
      "cell_type": "code",
      "metadata": {
        "colab": {
          "base_uri": "https://localhost:8080/"
        },
        "id": "FZtRkIuUzlJQ",
        "outputId": "90b0feb4-0b71-4d62-b26f-9f0c104f5f3c"
      },
      "source": [
        "# 58. 正則化パラメータの変更\n",
        "\n",
        "# グラフ表示のためのリスト\n",
        "# パラメータ\n",
        "result_c = []\n",
        "# 訓練データの正解率\n",
        "result_train = []\n",
        "# 検証データの正解率\n",
        "result_valid = []\n",
        "# テストデータの正解率\n",
        "result_test = []\n",
        "\n",
        "# 正規化パラメータの値を対数スケールで10^-4から10^4までとる\n",
        "# (どの程度の値で変化させるのが適切なのでしょうか?)\n",
        "# numpy.logspaceで対数スケールの配列を作成(開始、終了、要素数、基底)\n",
        "c_params = np.logspace(-4, 4, 8, base=10)\n",
        "\n",
        "# それぞれのパラメータで学習を行う\n",
        "for c in c_params:\n",
        "  result_c.append(c)\n",
        "\n",
        "  # 52同様にモデルの学習を行う\n",
        "  # 比較を行うので、random_state=0とシード値指定する\n",
        "  lg = LogisticRegression(random_state=0, C=c)\n",
        "  lg.fit(df_train, train['CATEGORY'])\n",
        "\n",
        "  # 今回は正解率だけ(予測確率は求めない)ので53で作成したものは使わない\n",
        "  # lg.predictで予測ラベルを求め、それとaccuracy_scoreを用いて正解率を求めリストに格納\n",
        "  result_train.append(accuracy_score(train['CATEGORY'], lg.predict(df_train)))\n",
        "  result_valid.append(accuracy_score(valid['CATEGORY'], lg.predict(df_valid))) \n",
        "  result_test.append(accuracy_score(test['CATEGORY'], lg.predict(df_test))) "
      ],
      "execution_count": 13,
      "outputs": [
        {
          "output_type": "stream",
          "text": [
            "/usr/local/lib/python3.7/dist-packages/sklearn/linear_model/_logistic.py:940: ConvergenceWarning: lbfgs failed to converge (status=1):\n",
            "STOP: TOTAL NO. of ITERATIONS REACHED LIMIT.\n",
            "\n",
            "Increase the number of iterations (max_iter) or scale the data as shown in:\n",
            "    https://scikit-learn.org/stable/modules/preprocessing.html\n",
            "Please also refer to the documentation for alternative solver options:\n",
            "    https://scikit-learn.org/stable/modules/linear_model.html#logistic-regression\n",
            "  extra_warning_msg=_LOGISTIC_SOLVER_CONVERGENCE_MSG)\n",
            "/usr/local/lib/python3.7/dist-packages/sklearn/linear_model/_logistic.py:940: ConvergenceWarning: lbfgs failed to converge (status=1):\n",
            "STOP: TOTAL NO. of ITERATIONS REACHED LIMIT.\n",
            "\n",
            "Increase the number of iterations (max_iter) or scale the data as shown in:\n",
            "    https://scikit-learn.org/stable/modules/preprocessing.html\n",
            "Please also refer to the documentation for alternative solver options:\n",
            "    https://scikit-learn.org/stable/modules/linear_model.html#logistic-regression\n",
            "  extra_warning_msg=_LOGISTIC_SOLVER_CONVERGENCE_MSG)\n",
            "/usr/local/lib/python3.7/dist-packages/sklearn/linear_model/_logistic.py:940: ConvergenceWarning: lbfgs failed to converge (status=1):\n",
            "STOP: TOTAL NO. of ITERATIONS REACHED LIMIT.\n",
            "\n",
            "Increase the number of iterations (max_iter) or scale the data as shown in:\n",
            "    https://scikit-learn.org/stable/modules/preprocessing.html\n",
            "Please also refer to the documentation for alternative solver options:\n",
            "    https://scikit-learn.org/stable/modules/linear_model.html#logistic-regression\n",
            "  extra_warning_msg=_LOGISTIC_SOLVER_CONVERGENCE_MSG)\n",
            "/usr/local/lib/python3.7/dist-packages/sklearn/linear_model/_logistic.py:940: ConvergenceWarning: lbfgs failed to converge (status=1):\n",
            "STOP: TOTAL NO. of ITERATIONS REACHED LIMIT.\n",
            "\n",
            "Increase the number of iterations (max_iter) or scale the data as shown in:\n",
            "    https://scikit-learn.org/stable/modules/preprocessing.html\n",
            "Please also refer to the documentation for alternative solver options:\n",
            "    https://scikit-learn.org/stable/modules/linear_model.html#logistic-regression\n",
            "  extra_warning_msg=_LOGISTIC_SOLVER_CONVERGENCE_MSG)\n"
          ],
          "name": "stderr"
        }
      ]
    },
    {
      "cell_type": "code",
      "metadata": {
        "colab": {
          "base_uri": "https://localhost:8080/",
          "height": 283
        },
        "id": "_xtdpGw74Cuo",
        "outputId": "e76fdb37-21c9-499f-fc69-ea4e7b21c914"
      },
      "source": [
        "# 58. 正則化パラメータの変更\n",
        "# グラフの表示\n",
        "import matplotlib.pyplot as plt\n",
        "# それぞれのデータのグラフの作成\n",
        "plt.plot(result_c, result_train, label='train')\n",
        "plt.plot(result_c, result_valid, label='valid')\n",
        "plt.plot(result_c, result_test, label='test')\n",
        "# y軸の設定\n",
        "# ylimの範囲をこのように指定するとうまく表示できる\n",
        "plt.ylim(0, 1.1)\n",
        "plt.ylabel('Accuracy')\n",
        "# x軸は対数\n",
        "plt.xscale ('log')\n",
        "plt.xlabel('Normalization parameters')\n",
        "# 凡例の表示をlegend()で行う\n",
        "plt.legend()\n",
        "plt.show()"
      ],
      "execution_count": 14,
      "outputs": [
        {
          "output_type": "display_data",
          "data": {
            "image/png": "[encoded data removed]",
            "text/plain": [
              "<Figure size 432x288 with 1 Axes>"
            ]
          },
          "metadata": {
            "tags": [],
            "needs_background": "light"
          }
        }
      ]
    },
    {
      "cell_type": "code",
      "metadata": {
        "id": "iHCa11HGBLmN"
      },
      "source": [
        "# 59. ハイパーパラメータの探索\n",
        "# サーチ方法としてグリッドサーチとランダムサーチを用いる\n",
        "from sklearn.model_selection import GridSearchCV\n",
        "from sklearn.model_selection import RandomizedSearchCV\n",
        "\n",
        "# ハイパーパラメータの候補を作成する\n",
        "# パラメータは正規化パラメータ,random_state,と探索回数(max_iter)\n",
        "# (本当はもっと多く候補を試していたのですが、）\n",
        "# (計測時間があまりにも長くなってしまったので、減らしました)\n",
        "# (本来の目的から外れていると思います。すみません。)\n",
        "params = {LogisticRegression(): {\"C\": [i for i in range(5, 11)],  \n",
        "                                  \"max_iter\": list(range(100, 301, 100))}}\n",
        "# 検証データのスコア\n",
        "gscv_score = 0\n",
        "rscv_score = 0\n",
        "# テストデータのスコア\n",
        "test_score = 0\n",
        "# サーチメソッドの判定に使用する変数\n",
        "SearchMethod = 0\n",
        "\n",
        "# 作成したパラメータを用いて探索を行う\n",
        "# まずグリッドサーチから行う\n",
        "# for文を用いているのは上で作成したパラメータからmodelとparamを取得するため\n",
        "for model, param in params.items():\n",
        "  # グリッドサーチのインスタンスを作成\n",
        "  gscv = GridSearchCV(model, param)\n",
        "  # 学習を開始\n",
        "  gscv.fit(df_train, train['CATEGORY'])\n",
        "  # best_estimator_でグリッドサーチの中で最も精度が高いパラメータで学習した分類器を取得\n",
        "  gscv_estimator = gscv.best_estimator_\n",
        "  # それを用いて検証データ上の正解率を求める\n",
        "  gscv_score = accuracy_score(valid['CATEGORY'], gscv_estimator.predict(df_valid))\n",
        "\n",
        "# 次にランダムサーチを行う\n",
        "# 手順はグリッドサーチと同じなので説明は割愛\n",
        "for model, param in params.items():\n",
        "  rscv =RandomizedSearchCV(model, param)\n",
        "  rscv.fit(df_train, train['CATEGORY'])\n",
        "  rscv_estimator = rscv.best_estimator_\n",
        "  rscv_score = accuracy_score(valid['CATEGORY'], rscv_estimator.predict(df_valid))"
      ],
      "execution_count": null,
      "outputs": []
    },
    {
      "cell_type": "code",
      "metadata": {
        "colab": {
          "base_uri": "https://localhost:8080/"
        },
        "id": "NsNCQ9f8RP2J",
        "outputId": "d6d037db-7058-4306-bfef-9fd05b65bce7"
      },
      "source": [
        "# 59. ハイパーパラメータの探索\n",
        "# スコアの表示\n",
        "\n",
        "#上で作成したグリッドサーチとランダムサーチの検証データ上の正解率を比較する \n",
        "if gscv_score > rscv_score:\n",
        "  # グリッドサーチの方が高ければ、グリッドサーチの最も精度が高い分類器を用いて評価データ上の正解率を求める\n",
        "  test_score = accuracy_score(test['CATEGORY'], gscv_estimator.predict(df_test))\n",
        "  # 結果と用いたパラメータの表示\n",
        "  print(\"評価データの正解率\", test_score)\n",
        "  print(\"サーチ方法:グリッドサーチ\")\n",
        "  print(\"モデル:LogisticRegression()\")\n",
        "  print(\"パラメーター:\", gscv.best_params_)\n",
        "\n",
        "else:\n",
        "  # ランダムサーチの方が高い場合も同様に行う\n",
        "  test_score = accuracy_score(test['CATEGORY'], rscv_estimator.predict(df_test))\n",
        "  print(\"評価データの正解率\", test_score)\n",
        "  print(\"サーチ方法:ランダムサーチ\")\n",
        "  print(\"モデル:LogisticRegression()\")\n",
        "  print(\"パラメーター:\", rscv.best_params_)"
      ],
      "execution_count": 16,
      "outputs": [
        {
          "output_type": "stream",
          "text": [
            "評価データの正解率 0.8823088455772113\n",
            "サーチ方法:ランダムサーチ\n",
            "モデル:LogisticRegression()\n",
            "パラメーター: {'max_iter': 100, 'C': 5}\n"
          ],
          "name": "stdout"
        }
      ]
    },
    {
      "cell_type": "code",
      "metadata": {
        "colab": {
          "base_uri": "https://localhost:8080/"
        },
        "id": "_75Sb_yfGeND",
        "outputId": "fbcd0da7-675e-4b9a-e4c0-bb24fdc757f4"
      },
      "source": [
        "# 54で求めた正解率より高くなっている\n",
        "print('評価データ：', accuracy_score(test['CATEGORY'], test_pred[1]))"
      ],
      "execution_count": 17,
      "outputs": [
        {
          "output_type": "stream",
          "text": [
            "評価データ： 0.8740629685157422\n"
          ],
          "name": "stdout"
        }
      ]
    }
  ]
}